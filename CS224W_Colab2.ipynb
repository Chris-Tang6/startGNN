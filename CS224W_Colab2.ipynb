{
 "nbformat": 4,
 "nbformat_minor": 0,
 "metadata": {
  "kernelspec": {
   "display_name": "Python 3",
   "language": "python",
   "name": "python3"
  },
  "language_info": {
   "codemirror_mode": {
    "name": "ipython",
    "version": 3
   },
   "file_extension": ".py",
   "mimetype": "text/x-python",
   "name": "python",
   "nbconvert_exporter": "python",
   "pygments_lexer": "ipython3",
   "version": "3.7.3"
  },
  "colab": {
   "provenance": [],
   "machine_shape": "hm"
  },
  "accelerator": "GPU"
 },
 "cells": [
  {
   "cell_type": "markdown",
   "metadata": {
    "id": "XuXWJLEm2UWS"
   },
   "source": [
    "# **CS224W - Colab 2**"
   ]
  },
  {
   "cell_type": "markdown",
   "metadata": {
    "id": "8gzsP50bF6Gb"
   },
   "source": [
    "In Colab 2, we will work to construct our own graph neural network using PyTorch Geometric (PyG) and then apply that model on two Open Graph Benchmark (OGB) datasets. These two datasets will be used to benchmark your model's performance on two different graph-based tasks: 1) node property prediction, predicting properties of single nodes and 2) graph property prediction, predicting properties of entire graphs or subgraphs.\n",
    "\n",
    "First, we will learn how PyTorch Geometric stores graphs as PyTorch tensors.\n",
    "\n",
    "Then, we will load and inspect one of the Open Graph Benchmark (OGB) datasets by using the `ogb` package. OGB is a collection of realistic, large-scale, and diverse benchmark datasets for machine learning on graphs. The `ogb` package not only provides data loaders for each dataset but also model evaluators.\n",
    "\n",
    "Lastly, we will build our own graph neural network using PyTorch Geometric. We will then train and evaluate our model on the OGB node property prediction and graph property prediction tasks.\n",
    "\n",
    "**Note**: Make sure to **sequentially run all the cells in each section**, so that the intermediate variables / packages will carry over to the next cell\n",
    "\n",
    "We recommend you save a copy of this colab in your drive so you don't lose progress!\n",
    "\n",
    "Have fun and good luck on Colab 2 :)"
   ]
  },
  {
   "cell_type": "markdown",
   "metadata": {
    "id": "ZGKqVEbbMEzf"
   },
   "source": [
    "# Device\n",
    "You might need to use a GPU for this Colab to run quickly.\n",
    "\n",
    "Please click `Runtime` and then `Change runtime type`. Then set the `hardware accelerator` to **GPU**."
   ]
  },
  {
   "cell_type": "markdown",
   "metadata": {
    "id": "OCK7krJdp4o8"
   },
   "source": [
    "# Setup\n",
    "As discussed in Colab 0, the installation of PyG on Colab can be a little bit tricky. First let us check which version of PyTorch you are running"
   ]
  },
  {
   "cell_type": "code",
   "metadata": {
    "id": "2vkP8pA1qBE5"
   },
   "source": [
    "import torch\n",
    "import os\n",
    "\n",
    "print(\"PyTorch has version {}\".format(torch.__version__))"
   ],
   "execution_count": 1,
   "outputs": [
    {
     "name": "stdout",
     "output_type": "stream",
     "text": [
      "PyTorch has version 1.13.1\n"
     ]
    }
   ]
  },
  {
   "cell_type": "markdown",
   "metadata": {
    "id": "L6d22O6DqGSZ"
   },
   "source": [
    "Download the necessary packages for PyG. Make sure that your version of torch matches the output from the cell above. In case of any issues, more information can be found on the [PyG's installation page](https://pytorch-geometric.readthedocs.io/en/latest/notes/installation.html)."
   ]
  },
  {
   "cell_type": "code",
   "metadata": {
    "id": "zr8hfxJ-qRg2"
   },
   "source": [
    "# Install torch geometric\n",
    "if 'IS_GRADESCOPE_ENV' not in os.environ:\n",
    "    !pip install torch-scatter -f https: // pytorch-geometric.com / whl / torch-1.13.1+cu116.html\n",
    "    !pip install torch-sparse -f https: // pytorch-geometric.com / whl / torch-1.13.1+cu116.html\n",
    "    !pip install torch-geometric\n",
    "    !pip install ogb"
   ],
   "execution_count": 2,
   "outputs": [
    {
     "name": "stdout",
     "output_type": "stream",
     "text": [
      "Looking in links: https://pytorch-geometric.com/whl/torch-1.13.1+cu116.html\n",
      "Requirement already satisfied: torch-scatter in e:\\programdata\\anaconda3\\envs\\pyg\\lib\\site-packages (2.1.0+pt113cpu)\n",
      "Looking in links: https://pytorch-geometric.com/whl/torch-1.13.1+cu116.html\n",
      "Requirement already satisfied: torch-sparse in e:\\programdata\\anaconda3\\envs\\pyg\\lib\\site-packages (0.6.16+pt113cpu)\n",
      "Requirement already satisfied: scipy in e:\\programdata\\anaconda3\\envs\\pyg\\lib\\site-packages (from torch-sparse) (1.10.0)\n",
      "Requirement already satisfied: numpy<1.27.0,>=1.19.5 in e:\\programdata\\anaconda3\\envs\\pyg\\lib\\site-packages (from scipy->torch-sparse) (1.23.5)\n",
      "Requirement already satisfied: torch-geometric in e:\\programdata\\anaconda3\\envs\\pyg\\lib\\site-packages (2.2.0)\n",
      "Requirement already satisfied: scipy in e:\\programdata\\anaconda3\\envs\\pyg\\lib\\site-packages (from torch-geometric) (1.10.0)\n",
      "Requirement already satisfied: pyparsing in e:\\programdata\\anaconda3\\envs\\pyg\\lib\\site-packages (from torch-geometric) (3.0.9)\n",
      "Requirement already satisfied: psutil>=5.8.0 in e:\\programdata\\anaconda3\\envs\\pyg\\lib\\site-packages (from torch-geometric) (5.9.0)\n",
      "Requirement already satisfied: requests in e:\\programdata\\anaconda3\\envs\\pyg\\lib\\site-packages (from torch-geometric) (2.28.1)\n",
      "Requirement already satisfied: tqdm in e:\\programdata\\anaconda3\\envs\\pyg\\lib\\site-packages (from torch-geometric) (4.64.1)\n",
      "Requirement already satisfied: scikit-learn in e:\\programdata\\anaconda3\\envs\\pyg\\lib\\site-packages (from torch-geometric) (1.2.1)\n",
      "Requirement already satisfied: numpy in e:\\programdata\\anaconda3\\envs\\pyg\\lib\\site-packages (from torch-geometric) (1.23.5)\n",
      "Requirement already satisfied: jinja2 in e:\\programdata\\anaconda3\\envs\\pyg\\lib\\site-packages (from torch-geometric) (3.1.2)\n",
      "Requirement already satisfied: MarkupSafe>=2.0 in e:\\programdata\\anaconda3\\envs\\pyg\\lib\\site-packages (from jinja2->torch-geometric) (2.1.1)\n",
      "Requirement already satisfied: certifi>=2017.4.17 in e:\\programdata\\anaconda3\\envs\\pyg\\lib\\site-packages (from requests->torch-geometric) (2022.12.7)\n",
      "Requirement already satisfied: idna<4,>=2.5 in e:\\programdata\\anaconda3\\envs\\pyg\\lib\\site-packages (from requests->torch-geometric) (3.4)\n",
      "Requirement already satisfied: charset-normalizer<3,>=2 in e:\\programdata\\anaconda3\\envs\\pyg\\lib\\site-packages (from requests->torch-geometric) (2.0.4)\n",
      "Requirement already satisfied: urllib3<1.27,>=1.21.1 in e:\\programdata\\anaconda3\\envs\\pyg\\lib\\site-packages (from requests->torch-geometric) (1.26.14)\n",
      "Requirement already satisfied: threadpoolctl>=2.0.0 in e:\\programdata\\anaconda3\\envs\\pyg\\lib\\site-packages (from scikit-learn->torch-geometric) (3.1.0)\n",
      "Requirement already satisfied: joblib>=1.1.1 in e:\\programdata\\anaconda3\\envs\\pyg\\lib\\site-packages (from scikit-learn->torch-geometric) (1.2.0)\n",
      "Requirement already satisfied: colorama in e:\\programdata\\anaconda3\\envs\\pyg\\lib\\site-packages (from tqdm->torch-geometric) (0.4.6)\n",
      "Collecting ogb\n",
      "  Downloading ogb-1.3.5-py3-none-any.whl (78 kB)\n",
      "     -------------------------------------- 78.6/78.6 kB 218.9 kB/s eta 0:00:00\n",
      "Requirement already satisfied: six>=1.12.0 in e:\\programdata\\anaconda3\\envs\\pyg\\lib\\site-packages (from ogb) (1.16.0)\n",
      "Requirement already satisfied: tqdm>=4.29.0 in e:\\programdata\\anaconda3\\envs\\pyg\\lib\\site-packages (from ogb) (4.64.1)\n",
      "Collecting outdated>=0.2.0\n",
      "  Downloading outdated-0.2.2-py2.py3-none-any.whl (7.5 kB)\n",
      "Requirement already satisfied: numpy>=1.16.0 in e:\\programdata\\anaconda3\\envs\\pyg\\lib\\site-packages (from ogb) (1.23.5)\n",
      "Requirement already satisfied: torch>=1.6.0 in e:\\programdata\\anaconda3\\envs\\pyg\\lib\\site-packages (from ogb) (1.13.1)\n",
      "Requirement already satisfied: scikit-learn>=0.20.0 in e:\\programdata\\anaconda3\\envs\\pyg\\lib\\site-packages (from ogb) (1.2.1)\n",
      "Collecting pandas>=0.24.0\n",
      "  Downloading pandas-1.5.3-cp38-cp38-win_amd64.whl (11.0 MB)\n",
      "     --------------------------------------- 11.0/11.0 MB 89.4 kB/s eta 0:00:00\n",
      "Requirement already satisfied: urllib3>=1.24.0 in e:\\programdata\\anaconda3\\envs\\pyg\\lib\\site-packages (from ogb) (1.26.14)\n",
      "Collecting littleutils\n",
      "  Downloading littleutils-0.2.2.tar.gz (6.6 kB)\n",
      "  Preparing metadata (setup.py): started\n",
      "  Preparing metadata (setup.py): finished with status 'done'\n",
      "Requirement already satisfied: setuptools>=44 in e:\\programdata\\anaconda3\\envs\\pyg\\lib\\site-packages (from outdated>=0.2.0->ogb) (65.6.3)\n",
      "Requirement already satisfied: requests in e:\\programdata\\anaconda3\\envs\\pyg\\lib\\site-packages (from outdated>=0.2.0->ogb) (2.28.1)\n",
      "Requirement already satisfied: python-dateutil>=2.8.1 in e:\\programdata\\anaconda3\\envs\\pyg\\lib\\site-packages (from pandas>=0.24.0->ogb) (2.8.2)\n",
      "Requirement already satisfied: pytz>=2020.1 in e:\\programdata\\anaconda3\\envs\\pyg\\lib\\site-packages (from pandas>=0.24.0->ogb) (2022.7)\n",
      "Requirement already satisfied: threadpoolctl>=2.0.0 in e:\\programdata\\anaconda3\\envs\\pyg\\lib\\site-packages (from scikit-learn>=0.20.0->ogb) (3.1.0)\n",
      "Requirement already satisfied: joblib>=1.1.1 in e:\\programdata\\anaconda3\\envs\\pyg\\lib\\site-packages (from scikit-learn>=0.20.0->ogb) (1.2.0)\n",
      "Requirement already satisfied: scipy>=1.3.2 in e:\\programdata\\anaconda3\\envs\\pyg\\lib\\site-packages (from scikit-learn>=0.20.0->ogb) (1.10.0)\n",
      "Requirement already satisfied: typing_extensions in e:\\programdata\\anaconda3\\envs\\pyg\\lib\\site-packages (from torch>=1.6.0->ogb) (4.4.0)\n",
      "Requirement already satisfied: colorama in e:\\programdata\\anaconda3\\envs\\pyg\\lib\\site-packages (from tqdm>=4.29.0->ogb) (0.4.6)\n",
      "Requirement already satisfied: idna<4,>=2.5 in e:\\programdata\\anaconda3\\envs\\pyg\\lib\\site-packages (from requests->outdated>=0.2.0->ogb) (3.4)\n",
      "Requirement already satisfied: charset-normalizer<3,>=2 in e:\\programdata\\anaconda3\\envs\\pyg\\lib\\site-packages (from requests->outdated>=0.2.0->ogb) (2.0.4)\n",
      "Requirement already satisfied: certifi>=2017.4.17 in e:\\programdata\\anaconda3\\envs\\pyg\\lib\\site-packages (from requests->outdated>=0.2.0->ogb) (2022.12.7)\n",
      "Building wheels for collected packages: littleutils\n",
      "  Building wheel for littleutils (setup.py): started\n",
      "  Building wheel for littleutils (setup.py): finished with status 'done'\n",
      "  Created wheel for littleutils: filename=littleutils-0.2.2-py3-none-any.whl size=7028 sha256=8ca24467329c7d715a183d5afae1593a476ba852caa53259aa65140bc4d9db58\n",
      "  Stored in directory: c:\\users\\10095\\appdata\\local\\pip\\cache\\wheels\\2c\\6e\\a5\\0bb81a7612c17457aa6ddfa9e70fc2a300e9a7048c3bc955b2\n",
      "Successfully built littleutils\n",
      "Installing collected packages: littleutils, pandas, outdated, ogb\n",
      "Successfully installed littleutils-0.2.2 ogb-1.3.5 outdated-0.2.2 pandas-1.5.3\n"
     ]
    }
   ]
  },
  {
   "cell_type": "markdown",
   "metadata": {
    "id": "Nwwq0nSdmsOL"
   },
   "source": [
    "# 1) PyTorch Geometric (Datasets and Data)\n"
   ]
  },
  {
   "cell_type": "markdown",
   "metadata": {
    "id": "Sf7vUmdNKCjA"
   },
   "source": [
    "PyTorch Geometric has two classes for storing and/or transforming graphs into tensor format. One is `torch_geometric.datasets`, which contains a variety of common graph datasets. Another is `torch_geometric.data`, which provides the data handling of graphs in PyTorch tensors.\n",
    "\n",
    "In this section, we will learn how to use `torch_geometric.datasets` and `torch_geometric.data` together."
   ]
  },
  {
   "cell_type": "markdown",
   "metadata": {
    "id": "ic-o1P3r6hr2"
   },
   "source": [
    "## PyG Datasets\n",
    "\n",
    "The `torch_geometric.datasets` class has many common graph datasets. Here we will explore its usage through one example dataset."
   ]
  },
  {
   "cell_type": "code",
   "metadata": {
    "id": "zT5qca3x6XpG"
   },
   "source": [
    "from torch_geometric.datasets import TUDataset\n",
    "\n",
    "if 'IS_GRADESCOPE_ENV' not in os.environ:\n",
    "    root = './enzymes'\n",
    "    name = 'ENZYMES'\n",
    "\n",
    "    # The ENZYMES dataset\n",
    "    pyg_dataset = TUDataset(root, name)\n",
    "\n",
    "    # You will find that there are 600 graphs in this dataset\n",
    "    print(pyg_dataset)"
   ],
   "execution_count": 3,
   "outputs": [
    {
     "name": "stderr",
     "output_type": "stream",
     "text": [
      "Downloading https://www.chrsmrrs.com/graphkerneldatasets/ENZYMES.zip\n",
      "Extracting enzymes\\ENZYMES\\ENZYMES.zip\n",
      "Processing...\n"
     ]
    },
    {
     "name": "stdout",
     "output_type": "stream",
     "text": [
      "ENZYMES(600)\n"
     ]
    },
    {
     "name": "stderr",
     "output_type": "stream",
     "text": [
      "Done!\n"
     ]
    }
   ]
  },
  {
   "cell_type": "markdown",
   "metadata": {
    "id": "NLm5vVYMAP2x"
   },
   "source": [
    "## Question 1: What is the number of classes and number of features in the ENZYMES dataset? (5 points)"
   ]
  },
  {
   "cell_type": "code",
   "metadata": {
    "id": "8iF_Kyqr_JbY"
   },
   "source": [
    "def get_num_classes(pyg_dataset):\n",
    "    # TODO: Implement a function that takes a PyG dataset object\n",
    "    # and returns the number of classes for that dataset.\n",
    "\n",
    "    num_classes = 0\n",
    "\n",
    "    ############# Your code here ############\n",
    "    ## (~1 line of code)\n",
    "    ## Note\n",
    "    ## 1. Colab autocomplete functionality might be useful.\n",
    "\n",
    "    #########################################\n",
    "\n",
    "    return num_classes\n",
    "\n",
    "\n",
    "def get_num_features(pyg_dataset):\n",
    "    # TODO: Implement a function that takes a PyG dataset object\n",
    "    # and returns the number of features for that dataset.\n",
    "\n",
    "    num_features = 0\n",
    "\n",
    "    ############# Your code here ############\n",
    "    ## (~1 line of code)\n",
    "    ## Note\n",
    "    ## 1. Colab autocomplete functionality might be useful.\n",
    "\n",
    "    #########################################\n",
    "\n",
    "    return num_features\n",
    "\n",
    "\n",
    "if 'IS_GRADESCOPE_ENV' not in os.environ:\n",
    "    num_classes = get_num_classes(pyg_dataset)\n",
    "    num_features = get_num_features(pyg_dataset)\n",
    "    print(\"{} dataset has {} classes\".format(name, num_classes))\n",
    "    print(\"{} dataset has {} features\".format(name, num_features))"
   ],
   "execution_count": 4,
   "outputs": [
    {
     "name": "stdout",
     "output_type": "stream",
     "text": [
      "ENZYMES dataset has 0 classes\n",
      "ENZYMES dataset has 0 features\n"
     ]
    }
   ]
  },
  {
   "cell_type": "markdown",
   "metadata": {
    "id": "rwKbzhHUAckZ"
   },
   "source": [
    "## PyG Data\n",
    "\n",
    "Each PyG dataset stores a list of `torch_geometric.data.Data` objects, where each `torch_geometric.data.Data` object represents a graph. We can easily get the `Data` object by indexing into the dataset.\n",
    "\n",
    "For more information such as what is stored in the `Data` object, please refer to the [documentation](https://pytorch-geometric.readthedocs.io/en/latest/modules/data.html#torch_geometric.data.Data)."
   ]
  },
  {
   "cell_type": "markdown",
   "metadata": {
    "id": "7sCV3xJWCddX"
   },
   "source": [
    "## Question 2: What is the label of the graph with index 100 in the ENZYMES dataset? (5 points)"
   ]
  },
  {
   "cell_type": "code",
   "metadata": {
    "id": "LIis9oTZAfs3"
   },
   "source": [
    "def get_graph_class(pyg_dataset, idx):\n",
    "    # TODO: Implement a function that takes a PyG dataset object,\n",
    "    # an index of a graph within the dataset, and returns the class/label\n",
    "    # of the graph (as an integer).\n",
    "\n",
    "    label = -1\n",
    "\n",
    "    ############# Your code here ############\n",
    "    ## (~1 line of code)\n",
    "\n",
    "    #########################################\n",
    "\n",
    "    return label\n",
    "\n",
    "\n",
    "# Here pyg_dataset is a dataset for graph classification\n",
    "if 'IS_GRADESCOPE_ENV' not in os.environ:\n",
    "    graph_0 = pyg_dataset[0]\n",
    "    print(graph_0)\n",
    "    idx = 100\n",
    "    label = get_graph_class(pyg_dataset, idx)\n",
    "    print('Graph with index {} has label {}'.format(idx, label))"
   ],
   "execution_count": 5,
   "outputs": [
    {
     "name": "stdout",
     "output_type": "stream",
     "text": [
      "Data(edge_index=[2, 168], x=[37, 3], y=[1])\n",
      "Graph with index 100 has label -1\n"
     ]
    }
   ]
  },
  {
   "cell_type": "markdown",
   "metadata": {
    "id": "fKhcVeAhCwoY"
   },
   "source": [
    "## Question 3: How many edges does the graph with index 200 have? (5 points)"
   ]
  },
  {
   "cell_type": "code",
   "metadata": {
    "id": "f5m2DOfhBtWv"
   },
   "source": [
    "def get_graph_num_edges(pyg_dataset, idx):\n",
    "    # TODO: Implement a function that takes a PyG dataset object,\n",
    "    # the index of a graph in the dataset, and returns the number of\n",
    "    # edges in the graph (as an integer). You should not count an edge\n",
    "    # twice if the graph is undirected. For example, in an undirected\n",
    "    # graph G, if two nodes v and u are connected by an edge, this edge\n",
    "    # should only be counted once.\n",
    "\n",
    "    num_edges = 0\n",
    "\n",
    "    ############# Your code here ############\n",
    "    ## Note:\n",
    "    ## 1. You can't return the data.num_edges directly\n",
    "    ## 2. We assume the graph is undirected\n",
    "    ## 3. Look at the PyG dataset built in functions\n",
    "    ## (~4 lines of code)\n",
    "\n",
    "    #########################################\n",
    "\n",
    "    return num_edges\n",
    "\n",
    "\n",
    "if 'IS_GRADESCOPE_ENV' not in os.environ:\n",
    "    idx = 200\n",
    "    num_edges = get_graph_num_edges(pyg_dataset, idx)\n",
    "    print('Graph with index {} has {} edges'.format(idx, num_edges))"
   ],
   "execution_count": 6,
   "outputs": [
    {
     "name": "stdout",
     "output_type": "stream",
     "text": [
      "Graph with index 200 has 0 edges\n"
     ]
    }
   ]
  },
  {
   "cell_type": "markdown",
   "metadata": {
    "id": "AXa7yIG4E0Fp"
   },
   "source": [
    "# 2) Open Graph Benchmark (OGB)\n",
    "\n",
    "The Open Graph Benchmark (OGB) is a collection of realistic, large-scale, and diverse benchmark datasets for machine learning on graphs. Its datasets are automatically downloaded, processed, and split using the OGB Data Loader. The model performance can then be evaluated by using the OGB Evaluator in a unified manner."
   ]
  },
  {
   "cell_type": "markdown",
   "metadata": {
    "id": "HnazPGGAJAZN"
   },
   "source": [
    "## Dataset and Data\n",
    "\n",
    "OGB also supports PyG dataset and data classes. Here we take a look on the `ogbn-arxiv` dataset."
   ]
  },
  {
   "cell_type": "code",
   "metadata": {
    "id": "Gpc6bTm3GF02"
   },
   "source": [
    "import torch_geometric.transforms as T\n",
    "from ogb.nodeproppred import PygNodePropPredDataset\n",
    "\n",
    "if 'IS_GRADESCOPE_ENV' not in os.environ:\n",
    "    dataset_name = 'ogbn-arxiv'\n",
    "    # Load the dataset and transform it to sparse tensor\n",
    "    dataset = PygNodePropPredDataset(name=dataset_name,\n",
    "                                     transform=T.ToSparseTensor())\n",
    "    print('The {} dataset has {} graph'.format(dataset_name, len(dataset)))\n",
    "\n",
    "    # Extract the graph\n",
    "    data = dataset[0]\n",
    "    print(data)"
   ],
   "execution_count": 17,
   "outputs": [
    {
     "name": "stdout",
     "output_type": "stream",
     "text": [
      "The ogbn-arxiv dataset has 1 graph\n",
      "Data(num_nodes=169343, x=[169343, 128], node_year=[169343, 1], y=[169343, 1], adj_t=[169343, 169343, nnz=1166243])\n"
     ]
    }
   ]
  },
  {
   "cell_type": "code",
   "execution_count": 18,
   "outputs": [
    {
     "data": {
      "text/plain": "128"
     },
     "execution_count": 18,
     "metadata": {},
     "output_type": "execute_result"
    }
   ],
   "source": [
    "data.num_features"
   ],
   "metadata": {
    "collapsed": false
   }
  },
  {
   "cell_type": "markdown",
   "metadata": {
    "id": "Cw0xZJKZI-n3"
   },
   "source": [
    "## Question 4: How many features are in the ogbn-arxiv graph? (5 points)"
   ]
  },
  {
   "cell_type": "code",
   "metadata": {
    "id": "ZP844_nT2ZJl"
   },
   "source": [
    "def graph_num_features(data):\n",
    "    # TODO: Implement a function that takes a PyG data object,\n",
    "    # and returns the number of features in the graph (as an integer).\n",
    "\n",
    "    num_features = 0\n",
    "\n",
    "    ############# Your code here ############\n",
    "    ## (~1 line of code)\n",
    "    num_features = data.num_features\n",
    "    #########################################\n",
    "\n",
    "    return num_features\n",
    "\n",
    "\n",
    "if 'IS_GRADESCOPE_ENV' not in os.environ:\n",
    "    num_features = graph_num_features(data)\n",
    "    print('The graph has {} features'.format(num_features))"
   ],
   "execution_count": 19,
   "outputs": [
    {
     "name": "stdout",
     "output_type": "stream",
     "text": [
      "The graph has 128 features\n"
     ]
    }
   ]
  },
  {
   "cell_type": "markdown",
   "metadata": {
    "id": "9DP_yEQZ0NVW"
   },
   "source": [
    "# 3) GNN: Node Property Prediction\n",
    "\n",
    "In this section we will build our first graph neural network using PyTorch Geometric. Then we will apply it to the task of node property prediction (node classification).\n",
    "\n",
    "Specifically, we will use GCN as the foundation for your graph neural network ([Kipf et al. (2017)](https://arxiv.org/pdf/1609.02907.pdf)). To do so, we will work with PyG's built-in `GCNConv` layer. "
   ]
  },
  {
   "cell_type": "markdown",
   "metadata": {
    "id": "O4CcOUEoInjD"
   },
   "source": [
    "## Setup"
   ]
  },
  {
   "cell_type": "code",
   "metadata": {
    "id": "-DCtgcHpGIpd"
   },
   "source": [
    "import torch\n",
    "import pandas as pd\n",
    "import torch.nn.functional as F\n",
    "\n",
    "print(torch.__version__)\n",
    "\n",
    "# The PyG built-in GCNConv\n",
    "from torch_geometric.nn import GCNConv\n",
    "\n",
    "import torch_geometric.transforms as T\n",
    "from ogb.nodeproppred import PygNodePropPredDataset, Evaluator"
   ],
   "execution_count": 9,
   "outputs": [
    {
     "name": "stdout",
     "output_type": "stream",
     "text": [
      "1.13.1\n"
     ]
    }
   ]
  },
  {
   "cell_type": "markdown",
   "metadata": {
    "id": "0IK9z0wQIwzQ"
   },
   "source": [
    "## Load and Preprocess the Dataset"
   ]
  },
  {
   "cell_type": "code",
   "metadata": {
    "id": "0ibJ0ieoIwQM"
   },
   "source": [
    "if 'IS_GRADESCOPE_ENV' not in os.environ:\n",
    "    dataset_name = 'ogbn-arxiv'\n",
    "    dataset = PygNodePropPredDataset(name=dataset_name,\n",
    "                                     transform=T.ToSparseTensor())\n",
    "    data = dataset[0]\n",
    "\n",
    "    # Make the adjacency matrix to symmetric(对称的)\n",
    "    data.adj_t = data.adj_t.to_symmetric()\n",
    "\n",
    "    device = 'cuda' if torch.cuda.is_available() else 'cpu'\n",
    "\n",
    "    # If you use GPU, the device should be cuda\n",
    "    print('Device: {}'.format(device))\n",
    "\n",
    "    data = data.to(device)\n",
    "    split_idx = dataset.get_idx_split()\n",
    "    train_idx = split_idx['train'].to(device)"
   ],
   "execution_count": 21,
   "outputs": [
    {
     "name": "stdout",
     "output_type": "stream",
     "text": [
      "Device: cpu\n"
     ]
    }
   ]
  },
  {
   "cell_type": "markdown",
   "metadata": {
    "id": "OgUA815bNJ8w"
   },
   "source": [
    "## GCN Model\n",
    "\n",
    "Now we will implement our GCN model!\n",
    "\n",
    "Please follow the figure below to implement the `forward` function.\n",
    "\n",
    "\n",
    "![test](https://drive.google.com/uc?id=128AuYAXNXGg7PIhJJ7e420DoPWKb-RtL)"
   ]
  },
  {
   "cell_type": "markdown",
   "source": [],
   "metadata": {
    "collapsed": false
   }
  },
  {
   "cell_type": "code",
   "metadata": {
    "id": "IgspXTYpNJLA"
   },
   "source": [
    "class GCN(torch.nn.Module):\n",
    "    def __init__(self, input_dim, hidden_dim, output_dim, num_layers,\n",
    "                 dropout, return_embeds=False):\n",
    "        # TODO: Implement a function that initializes self.convs, \n",
    "        # self.bns, and self.softmax.\n",
    "\n",
    "        super(GCN, self).__init__()\n",
    "\n",
    "        # A list of GCNConv layers\n",
    "        self.convs = None\n",
    "\n",
    "        # A list of 1D batch normalization layers\n",
    "        self.bns = None\n",
    "\n",
    "        # The log softmax layer\n",
    "        self.softmax = None\n",
    "\n",
    "        ############# Your code here ############\n",
    "        ## Note:\n",
    "        ## 1. You should use torch.nn.ModuleList for self.convs and self.bns\n",
    "        ## 2. self.convs has num_layers GCNConv layers\n",
    "        ## 3. self.bns has num_layers - 1 BatchNorm1d layers\n",
    "        ## 4. You should use torch.nn.LogSoftmax for self.softmax\n",
    "        ## 5. The parameters you can set for GCNConv include 'in_channels' and \n",
    "        ## 'out_channels'. For more information please refer to the documentation:\n",
    "        ## https://pytorch-geometric.readthedocs.io/en/latest/modules/nn.html#torch_geometric.nn.conv.GCNConv\n",
    "        ## 6. The only parameter you need to set for BatchNorm1d is 'num_features'\n",
    "        ## For more information please refer to the documentation: \n",
    "        ## https://pytorch.org/docs/stable/generated/torch.nn.BatchNorm1d.html\n",
    "        ## (~10 lines of code)\n",
    "        self.convs = torch.nn.ModuleList()\n",
    "        for i in range(num_layers - 1):\n",
    "            self.convs.append(GCNConv(input_dim, hidden_dim))\n",
    "            input_dim = hidden_dim\n",
    "        self.convs.append(GCNConv(input_dim, output_dim))\n",
    "        self.bns = torch.nn.ModuleList([torch.nn.BatchNorm1d(hidden_dim) for i in range(num_layers - 1)])\n",
    "        self.softmax = torch.nn.LogSoftmax()\n",
    "        #########################################\n",
    "\n",
    "        # Probability of an element getting zeroed\n",
    "        self.dropout = dropout\n",
    "\n",
    "        # Skip classification layer and return node embeddings\n",
    "        self.return_embeds = return_embeds\n",
    "\n",
    "    def reset_parameters(self):\n",
    "        for conv in self.convs:\n",
    "            conv.reset_parameters()\n",
    "        for bn in self.bns:\n",
    "            bn.reset_parameters()\n",
    "\n",
    "    def forward(self, x, adj_t):\n",
    "        # TODO: Implement a function that takes the feature tensor x and\n",
    "        # edge_index tensor adj_t and returns the output tensor as\n",
    "        # shown in the figure.\n",
    "\n",
    "        out = None\n",
    "\n",
    "        ############# Your code here ############\n",
    "        ## Note:\n",
    "        ## 1. Construct the network as shown in the figure\n",
    "        ## 2. torch.nn.functional.relu and torch.nn.functional.dropout are useful\n",
    "        ## For more information please refer to the documentation:\n",
    "        ## https://pytorch.org/docs/stable/nn.functional.html\n",
    "        ## 3. Don't forget to set F.dropout training to self.training\n",
    "        ## 4. If return_embeds is True, then skip the last softmax layer\n",
    "        ## (~7 lines of code)\n",
    "        for i in range(len(self.convs) - 1):\n",
    "            x = self.bns[i](self.convs[i](x, adj_t))\n",
    "            x = F.dropout(F.relu(x), self.dropout, self.training)\n",
    "        # the last layer\n",
    "        out = self.convs[-1](x, adj_t)\n",
    "        if not self.return_embeds:\n",
    "            out = self.softmax(out)\n",
    "        #########################################\n",
    "\n",
    "        return out"
   ],
   "execution_count": 22,
   "outputs": []
  },
  {
   "cell_type": "code",
   "metadata": {
    "id": "FF1hnHUhO81e"
   },
   "source": [
    "def train(model, data, train_idx, optimizer, loss_fn):\n",
    "    # TODO: Implement a function that trains the model by \n",
    "    # using the given optimizer and loss_fn.\n",
    "    model.train()\n",
    "    loss = 0\n",
    "\n",
    "    ############# Your code here ############\n",
    "    ## Note:\n",
    "    ## 1. Zero grad the optimizer\n",
    "    ## 2. Feed the data into the model\n",
    "    ## 3. Slice the model output and label by train_idx\n",
    "    ## 4. Feed the sliced output and label to loss_fn\n",
    "    ## (~4 lines of code)\n",
    "    optimizer.zero_grad()\n",
    "    out = model(data.x, data.adj_t)\n",
    "    train_output = out[train_idx]\n",
    "    train_label = data.y[train_idx, 0]\n",
    "    loss = loss_fn(train_output, train_label)\n",
    "    #########################################\n",
    "\n",
    "    loss.backward()\n",
    "    optimizer.step()\n",
    "\n",
    "    return loss.item()"
   ],
   "execution_count": 28,
   "outputs": []
  },
  {
   "cell_type": "code",
   "metadata": {
    "id": "aJdlrJQhPBsK"
   },
   "source": [
    "# Test function here\n",
    "@torch.no_grad()\n",
    "def test(model, data, split_idx, evaluator, save_model_results=False):\n",
    "    # TODO: Implement a function that tests the model by \n",
    "    # using the given split_idx and evaluator.\n",
    "    model.eval()\n",
    "\n",
    "    # The output of model on all data\n",
    "    out = None\n",
    "\n",
    "    ############# Your code here ############\n",
    "    ## (~1 line of code)\n",
    "    ## Note:\n",
    "    ## 1. No index slicing here\n",
    "    out = model(data.x, data.adj_t)\n",
    "    #########################################\n",
    "\n",
    "    y_pred = out.argmax(dim=-1, keepdim=True)\n",
    "\n",
    "    train_acc = evaluator.eval({\n",
    "        'y_true': data.y[split_idx['train']],\n",
    "        'y_pred': y_pred[split_idx['train']],\n",
    "    })['acc']\n",
    "    valid_acc = evaluator.eval({\n",
    "        'y_true': data.y[split_idx['valid']],\n",
    "        'y_pred': y_pred[split_idx['valid']],\n",
    "    })['acc']\n",
    "    test_acc = evaluator.eval({\n",
    "        'y_true': data.y[split_idx['test']],\n",
    "        'y_pred': y_pred[split_idx['test']],\n",
    "    })['acc']\n",
    "\n",
    "    if save_model_results:\n",
    "        print(\"Saving Model Predictions\")\n",
    "\n",
    "        data = {}\n",
    "        data['y_pred'] = y_pred.view(-1).cpu().detach().numpy()\n",
    "\n",
    "        df = pd.DataFrame(data=data)\n",
    "        # Save locally as csv\n",
    "        df.to_csv('ogbn-arxiv_node.csv', sep=',', index=False)\n",
    "\n",
    "    return train_acc, valid_acc, test_acc"
   ],
   "execution_count": 29,
   "outputs": []
  },
  {
   "cell_type": "code",
   "metadata": {
    "id": "o7F46xkuLiOL"
   },
   "source": [
    "# Please do not change the args\n",
    "if 'IS_GRADESCOPE_ENV' not in os.environ:\n",
    "    args = {\n",
    "        'device': device,\n",
    "        'num_layers': 3,\n",
    "        'hidden_dim': 256,\n",
    "        'dropout': 0.5,\n",
    "        'lr': 0.01,\n",
    "        'epochs': 100,\n",
    "    }\n",
    "    args"
   ],
   "execution_count": 30,
   "outputs": []
  },
  {
   "cell_type": "code",
   "metadata": {
    "id": "dT8RyM2cPGxM"
   },
   "source": [
    "if 'IS_GRADESCOPE_ENV' not in os.environ:\n",
    "    model = GCN(data.num_features, args['hidden_dim'],\n",
    "                dataset.num_classes, args['num_layers'],\n",
    "                args['dropout']).to(device)\n",
    "    evaluator = Evaluator(name='ogbn-arxiv')"
   ],
   "execution_count": 31,
   "outputs": []
  },
  {
   "cell_type": "code",
   "metadata": {
    "id": "qd5O5cnPPdVF"
   },
   "source": [
    "# Please do not change these args\n",
    "# Training should take <10min using GPU runtime\n",
    "import copy\n",
    "\n",
    "if 'IS_GRADESCOPE_ENV' not in os.environ:\n",
    "    # reset the parameters to initial random value\n",
    "    model.reset_parameters()\n",
    "\n",
    "    optimizer = torch.optim.Adam(model.parameters(), lr=args['lr'])\n",
    "    loss_fn = F.nll_loss\n",
    "\n",
    "    best_model = None\n",
    "    best_valid_acc = 0\n",
    "\n",
    "    for epoch in range(1, 1 + args[\"epochs\"]):\n",
    "        loss = train(model, data, train_idx, optimizer, loss_fn)\n",
    "        result = test(model, data, split_idx, evaluator)\n",
    "        train_acc, valid_acc, test_acc = result\n",
    "        if valid_acc > best_valid_acc:\n",
    "            best_valid_acc = valid_acc\n",
    "            best_model = copy.deepcopy(model)\n",
    "        print(f'Epoch: {epoch:02d}, '\n",
    "              f'Loss: {loss:.4f}, '\n",
    "              f'Train: {100 * train_acc:.2f}%, '\n",
    "              f'Valid: {100 * valid_acc:.2f}% '\n",
    "              f'Test: {100 * test_acc:.2f}%')"
   ],
   "execution_count": 32,
   "outputs": [
    {
     "name": "stderr",
     "output_type": "stream",
     "text": [
      "C:\\Users\\10095\\AppData\\Local\\Temp\\ipykernel_8524\\2122299836.py:74: UserWarning: Implicit dimension choice for log_softmax has been deprecated. Change the call to include dim=X as an argument.\n",
      "  out = self.softmax(out)\n"
     ]
    },
    {
     "name": "stdout",
     "output_type": "stream",
     "text": [
      "Epoch: 01, Loss: 4.3219, Train: 13.35%, Valid: 23.87% Test: 22.09%\n",
      "Epoch: 02, Loss: 2.2957, Train: 24.62%, Valid: 26.17% Test: 31.80%\n",
      "Epoch: 03, Loss: 1.9419, Train: 27.71%, Valid: 26.50% Test: 31.83%\n",
      "Epoch: 04, Loss: 1.7558, Train: 37.56%, Valid: 42.70% Test: 47.05%\n",
      "Epoch: 05, Loss: 1.6507, Train: 38.10%, Valid: 40.79% Test: 43.54%\n",
      "Epoch: 06, Loss: 1.5813, Train: 33.96%, Valid: 29.31% Test: 34.05%\n",
      "Epoch: 07, Loss: 1.5118, Train: 34.80%, Valid: 25.37% Test: 27.07%\n",
      "Epoch: 08, Loss: 1.4543, Train: 37.70%, Valid: 27.89% Test: 29.72%\n",
      "Epoch: 09, Loss: 1.4102, Train: 41.03%, Valid: 35.11% Test: 38.70%\n",
      "Epoch: 10, Loss: 1.3726, Train: 42.93%, Valid: 42.52% Test: 47.75%\n",
      "Epoch: 11, Loss: 1.3468, Train: 42.82%, Valid: 43.34% Test: 48.00%\n",
      "Epoch: 12, Loss: 1.3229, Train: 42.34%, Valid: 42.56% Test: 46.99%\n",
      "Epoch: 13, Loss: 1.2998, Train: 43.06%, Valid: 42.47% Test: 46.96%\n",
      "Epoch: 14, Loss: 1.2756, Train: 45.11%, Valid: 43.88% Test: 48.38%\n",
      "Epoch: 15, Loss: 1.2573, Train: 47.96%, Valid: 47.49% Test: 51.42%\n",
      "Epoch: 16, Loss: 1.2367, Train: 50.65%, Valid: 51.36% Test: 54.91%\n",
      "Epoch: 17, Loss: 1.2211, Train: 52.84%, Valid: 54.29% Test: 57.41%\n",
      "Epoch: 18, Loss: 1.2135, Train: 54.36%, Valid: 55.61% Test: 58.43%\n",
      "Epoch: 19, Loss: 1.1957, Train: 55.48%, Valid: 55.88% Test: 58.38%\n",
      "Epoch: 20, Loss: 1.1828, Train: 55.90%, Valid: 55.63% Test: 58.30%\n",
      "Epoch: 21, Loss: 1.1716, Train: 56.51%, Valid: 55.88% Test: 58.59%\n",
      "Epoch: 22, Loss: 1.1636, Train: 57.61%, Valid: 57.30% Test: 59.91%\n",
      "Epoch: 23, Loss: 1.1545, Train: 59.06%, Valid: 59.18% Test: 61.71%\n",
      "Epoch: 24, Loss: 1.1435, Train: 60.83%, Valid: 61.40% Test: 63.55%\n",
      "Epoch: 25, Loss: 1.1341, Train: 61.79%, Valid: 62.18% Test: 64.32%\n",
      "Epoch: 26, Loss: 1.1286, Train: 62.33%, Valid: 62.21% Test: 64.31%\n",
      "Epoch: 27, Loss: 1.1201, Train: 62.94%, Valid: 62.02% Test: 64.30%\n",
      "Epoch: 28, Loss: 1.1124, Train: 63.30%, Valid: 61.93% Test: 64.13%\n",
      "Epoch: 29, Loss: 1.1054, Train: 64.06%, Valid: 62.71% Test: 64.57%\n",
      "Epoch: 30, Loss: 1.0945, Train: 64.58%, Valid: 63.57% Test: 65.01%\n",
      "Epoch: 31, Loss: 1.0897, Train: 65.13%, Valid: 64.36% Test: 65.67%\n",
      "Epoch: 32, Loss: 1.0853, Train: 65.68%, Valid: 65.02% Test: 66.31%\n",
      "Epoch: 33, Loss: 1.0796, Train: 65.99%, Valid: 65.46% Test: 66.71%\n",
      "Epoch: 34, Loss: 1.0754, Train: 66.41%, Valid: 65.85% Test: 67.06%\n",
      "Epoch: 35, Loss: 1.0690, Train: 67.03%, Valid: 66.72% Test: 67.63%\n",
      "Epoch: 36, Loss: 1.0646, Train: 67.41%, Valid: 67.24% Test: 67.92%\n",
      "Epoch: 37, Loss: 1.0588, Train: 67.68%, Valid: 67.63% Test: 68.21%\n",
      "Epoch: 38, Loss: 1.0570, Train: 67.80%, Valid: 67.68% Test: 68.33%\n",
      "Epoch: 39, Loss: 1.0504, Train: 68.15%, Valid: 67.94% Test: 68.58%\n",
      "Epoch: 40, Loss: 1.0479, Train: 68.68%, Valid: 68.47% Test: 68.96%\n",
      "Epoch: 41, Loss: 1.0420, Train: 69.45%, Valid: 69.22% Test: 69.30%\n",
      "Epoch: 42, Loss: 1.0382, Train: 69.85%, Valid: 69.75% Test: 69.43%\n",
      "Epoch: 43, Loss: 1.0387, Train: 69.92%, Valid: 69.84% Test: 69.65%\n",
      "Epoch: 44, Loss: 1.0318, Train: 69.84%, Valid: 69.64% Test: 69.75%\n",
      "Epoch: 45, Loss: 1.0289, Train: 69.91%, Valid: 69.62% Test: 69.84%\n",
      "Epoch: 46, Loss: 1.0266, Train: 70.16%, Valid: 69.84% Test: 70.00%\n",
      "Epoch: 47, Loss: 1.0227, Train: 70.49%, Valid: 70.30% Test: 70.20%\n",
      "Epoch: 48, Loss: 1.0177, Train: 70.74%, Valid: 70.50% Test: 70.23%\n",
      "Epoch: 49, Loss: 1.0119, Train: 70.73%, Valid: 70.34% Test: 70.35%\n",
      "Epoch: 50, Loss: 1.0127, Train: 70.69%, Valid: 70.11% Test: 70.24%\n",
      "Epoch: 51, Loss: 1.0089, Train: 70.93%, Valid: 70.31% Test: 70.24%\n",
      "Epoch: 52, Loss: 1.0050, Train: 71.30%, Valid: 70.68% Test: 70.20%\n",
      "Epoch: 53, Loss: 1.0009, Train: 71.45%, Valid: 70.79% Test: 70.20%\n",
      "Epoch: 54, Loss: 0.9981, Train: 71.47%, Valid: 70.77% Test: 70.25%\n",
      "Epoch: 55, Loss: 1.0003, Train: 71.32%, Valid: 70.67% Test: 70.26%\n",
      "Epoch: 56, Loss: 0.9951, Train: 71.45%, Valid: 70.73% Test: 70.15%\n",
      "Epoch: 57, Loss: 0.9903, Train: 71.68%, Valid: 70.74% Test: 69.91%\n",
      "Epoch: 58, Loss: 0.9901, Train: 71.71%, Valid: 70.68% Test: 70.04%\n",
      "Epoch: 59, Loss: 0.9864, Train: 71.64%, Valid: 70.76% Test: 70.27%\n",
      "Epoch: 60, Loss: 0.9827, Train: 71.64%, Valid: 70.86% Test: 70.39%\n",
      "Epoch: 61, Loss: 0.9818, Train: 71.77%, Valid: 70.90% Test: 70.25%\n",
      "Epoch: 62, Loss: 0.9782, Train: 71.89%, Valid: 70.75% Test: 69.45%\n",
      "Epoch: 63, Loss: 0.9803, Train: 71.96%, Valid: 70.45% Test: 68.93%\n",
      "Epoch: 64, Loss: 0.9751, Train: 72.01%, Valid: 70.73% Test: 69.55%\n",
      "Epoch: 65, Loss: 0.9731, Train: 71.87%, Valid: 70.76% Test: 70.06%\n",
      "Epoch: 66, Loss: 0.9741, Train: 71.94%, Valid: 70.90% Test: 70.21%\n",
      "Epoch: 67, Loss: 0.9656, Train: 72.19%, Valid: 71.09% Test: 70.12%\n",
      "Epoch: 68, Loss: 0.9657, Train: 72.29%, Valid: 71.22% Test: 70.21%\n",
      "Epoch: 69, Loss: 0.9677, Train: 72.34%, Valid: 71.33% Test: 70.51%\n",
      "Epoch: 70, Loss: 0.9607, Train: 72.45%, Valid: 71.43% Test: 70.57%\n",
      "Epoch: 71, Loss: 0.9611, Train: 72.62%, Valid: 71.40% Test: 70.29%\n",
      "Epoch: 72, Loss: 0.9577, Train: 72.70%, Valid: 71.31% Test: 70.17%\n",
      "Epoch: 73, Loss: 0.9566, Train: 72.68%, Valid: 71.24% Test: 70.38%\n",
      "Epoch: 74, Loss: 0.9516, Train: 72.67%, Valid: 71.24% Test: 70.56%\n",
      "Epoch: 75, Loss: 0.9512, Train: 72.76%, Valid: 71.36% Test: 70.40%\n",
      "Epoch: 76, Loss: 0.9513, Train: 72.84%, Valid: 71.47% Test: 70.22%\n",
      "Epoch: 77, Loss: 0.9496, Train: 72.84%, Valid: 71.45% Test: 70.21%\n",
      "Epoch: 78, Loss: 0.9478, Train: 72.86%, Valid: 71.55% Test: 70.65%\n",
      "Epoch: 79, Loss: 0.9432, Train: 72.74%, Valid: 71.40% Test: 70.81%\n",
      "Epoch: 80, Loss: 0.9468, Train: 72.73%, Valid: 71.33% Test: 70.63%\n",
      "Epoch: 81, Loss: 0.9431, Train: 72.78%, Valid: 71.50% Test: 70.70%\n",
      "Epoch: 82, Loss: 0.9371, Train: 72.94%, Valid: 71.43% Test: 70.48%\n",
      "Epoch: 83, Loss: 0.9391, Train: 73.10%, Valid: 71.47% Test: 70.25%\n",
      "Epoch: 84, Loss: 0.9361, Train: 73.24%, Valid: 71.47% Test: 70.37%\n",
      "Epoch: 85, Loss: 0.9324, Train: 73.27%, Valid: 71.63% Test: 70.39%\n",
      "Epoch: 86, Loss: 0.9317, Train: 73.29%, Valid: 71.29% Test: 69.58%\n",
      "Epoch: 87, Loss: 0.9306, Train: 73.23%, Valid: 71.40% Test: 70.17%\n",
      "Epoch: 88, Loss: 0.9267, Train: 73.06%, Valid: 71.27% Test: 70.62%\n",
      "Epoch: 89, Loss: 0.9323, Train: 73.14%, Valid: 71.48% Test: 70.84%\n",
      "Epoch: 90, Loss: 0.9281, Train: 73.42%, Valid: 71.55% Test: 70.18%\n",
      "Epoch: 91, Loss: 0.9237, Train: 73.48%, Valid: 70.94% Test: 69.00%\n",
      "Epoch: 92, Loss: 0.9234, Train: 73.54%, Valid: 71.63% Test: 70.47%\n",
      "Epoch: 93, Loss: 0.9194, Train: 73.17%, Valid: 71.25% Test: 70.69%\n",
      "Epoch: 94, Loss: 0.9207, Train: 73.19%, Valid: 71.03% Test: 69.83%\n",
      "Epoch: 95, Loss: 0.9206, Train: 73.45%, Valid: 70.70% Test: 68.84%\n",
      "Epoch: 96, Loss: 0.9171, Train: 73.48%, Valid: 70.95% Test: 68.88%\n",
      "Epoch: 97, Loss: 0.9158, Train: 73.57%, Valid: 71.23% Test: 69.74%\n",
      "Epoch: 98, Loss: 0.9159, Train: 73.61%, Valid: 71.58% Test: 70.40%\n",
      "Epoch: 99, Loss: 0.9143, Train: 73.66%, Valid: 71.41% Test: 70.12%\n",
      "Epoch: 100, Loss: 0.9144, Train: 73.81%, Valid: 71.44% Test: 69.63%\n"
     ]
    }
   ]
  },
  {
   "cell_type": "markdown",
   "metadata": {
    "id": "dQtt-EKA8P4r"
   },
   "source": [
    "## Question 5: What are your `best_model` validation and test accuracies?(20 points)\n",
    "\n",
    "Run the cell below to see the results of your best of model and save your model's predictions to a file named *ogbn-arxiv_node.csv*. \n",
    "\n",
    "You can view this file by clicking on the *Folder* icon on the left side pannel. As in Colab 1, when you sumbit your assignment, you will have to download this file and attatch it to your submission."
   ]
  },
  {
   "cell_type": "code",
   "metadata": {
    "id": "EqcextqOL2FX"
   },
   "source": [
    "if 'IS_GRADESCOPE_ENV' not in os.environ:\n",
    "    best_result = test(best_model, data, split_idx, evaluator, save_model_results=True)\n",
    "    train_acc, valid_acc, test_acc = best_result\n",
    "    print(f'Best model: '\n",
    "          f'Train: {100 * train_acc:.2f}%, '\n",
    "          f'Valid: {100 * valid_acc:.2f}% '\n",
    "          f'Test: {100 * test_acc:.2f}%')"
   ],
   "execution_count": 33,
   "outputs": [
    {
     "name": "stdout",
     "output_type": "stream",
     "text": [
      "Saving Model Predictions\n",
      "Best model: Train: 73.27%, Valid: 71.63% Test: 70.39%\n"
     ]
    },
    {
     "name": "stderr",
     "output_type": "stream",
     "text": [
      "C:\\Users\\10095\\AppData\\Local\\Temp\\ipykernel_8524\\2122299836.py:74: UserWarning: Implicit dimension choice for log_softmax has been deprecated. Change the call to include dim=X as an argument.\n",
      "  out = self.softmax(out)\n"
     ]
    }
   ]
  },
  {
   "cell_type": "markdown",
   "metadata": {
    "id": "R8pOD6y80TyI"
   },
   "source": [
    "# 4) GNN: Graph Property Prediction\n",
    "\n",
    "In this section we will create a graph neural network for graph property prediction (graph classification).\n"
   ]
  },
  {
   "cell_type": "markdown",
   "metadata": {
    "id": "vRg5VOEdQTa4"
   },
   "source": [
    "## Load and preprocess the dataset"
   ]
  },
  {
   "cell_type": "code",
   "metadata": {
    "id": "LXb-O5QUIgTH"
   },
   "source": [
    "from ogb.graphproppred import PygGraphPropPredDataset, Evaluator\n",
    "from torch_geometric.data import DataLoader\n",
    "from tqdm.notebook import tqdm\n",
    "\n",
    "if 'IS_GRADESCOPE_ENV' not in os.environ:\n",
    "    # Load the dataset\n",
    "    dataset = PygGraphPropPredDataset(name='ogbg-molhiv')\n",
    "\n",
    "    device = 'cuda' if torch.cuda.is_available() else 'cpu'\n",
    "    print('Device: {}'.format(device))\n",
    "\n",
    "    split_idx = dataset.get_idx_split()\n",
    "\n",
    "    # Check task type\n",
    "    print('Task type: {}'.format(dataset.task_type))"
   ],
   "execution_count": 34,
   "outputs": [
    {
     "name": "stdout",
     "output_type": "stream",
     "text": [
      "Downloading http://snap.stanford.edu/ogb/data/graphproppred/csv_mol_download/hiv.zip\n"
     ]
    },
    {
     "name": "stderr",
     "output_type": "stream",
     "text": [
      "Downloaded 0.00 GB: 100%|██████████| 3/3 [00:04<00:00,  1.58s/it]\n",
      "Processing...\n"
     ]
    },
    {
     "name": "stdout",
     "output_type": "stream",
     "text": [
      "Extracting dataset\\hiv.zip\n",
      "Loading necessary files...\n",
      "This might take a while.\n",
      "Processing graphs...\n"
     ]
    },
    {
     "name": "stderr",
     "output_type": "stream",
     "text": [
      "100%|██████████| 41127/41127 [00:00<00:00, 96274.33it/s]\n"
     ]
    },
    {
     "name": "stdout",
     "output_type": "stream",
     "text": [
      "Converting graphs into PyG objects...\n"
     ]
    },
    {
     "name": "stderr",
     "output_type": "stream",
     "text": [
      "100%|██████████| 41127/41127 [00:01<00:00, 40695.19it/s]\n"
     ]
    },
    {
     "name": "stdout",
     "output_type": "stream",
     "text": [
      "Saving...\n",
      "Device: cpu\n",
      "Task type: binary classification\n"
     ]
    },
    {
     "name": "stderr",
     "output_type": "stream",
     "text": [
      "Done!\n"
     ]
    }
   ]
  },
  {
   "cell_type": "code",
   "metadata": {
    "id": "7cHHbgW1c5hi"
   },
   "source": [
    "# Load the dataset splits into corresponding dataloaders\n",
    "# We will train the graph classification task on a batch of 32 graphs\n",
    "# Shuffle the order of graphs for training set\n",
    "if 'IS_GRADESCOPE_ENV' not in os.environ:\n",
    "    train_loader = DataLoader(dataset[split_idx[\"train\"]], batch_size=32, shuffle=True, num_workers=0)\n",
    "    valid_loader = DataLoader(dataset[split_idx[\"valid\"]], batch_size=32, shuffle=False, num_workers=0)\n",
    "    test_loader = DataLoader(dataset[split_idx[\"test\"]], batch_size=32, shuffle=False, num_workers=0)"
   ],
   "execution_count": 35,
   "outputs": [
    {
     "name": "stderr",
     "output_type": "stream",
     "text": [
      "E:\\ProgramData\\Anaconda3\\envs\\pyg\\lib\\site-packages\\torch_geometric\\deprecation.py:12: UserWarning: 'data.DataLoader' is deprecated, use 'loader.DataLoader' instead\n",
      "  warnings.warn(out)\n"
     ]
    }
   ]
  },
  {
   "cell_type": "code",
   "metadata": {
    "id": "AYrSnOj0Y4DK"
   },
   "source": [
    "if 'IS_GRADESCOPE_ENV' not in os.environ:\n",
    "    # Please do not change the args\n",
    "    args = {\n",
    "        'device': device,\n",
    "        'num_layers': 5,\n",
    "        'hidden_dim': 256,\n",
    "        'dropout': 0.5,\n",
    "        'lr': 0.001,\n",
    "        'epochs': 30,\n",
    "    }\n",
    "    args"
   ],
   "execution_count": 36,
   "outputs": []
  },
  {
   "cell_type": "markdown",
   "metadata": {
    "id": "7WLhguSTeazy"
   },
   "source": [
    "## Graph Prediction Model"
   ]
  },
  {
   "cell_type": "markdown",
   "metadata": {
    "id": "u05Z14TRYPGn"
   },
   "source": [
    "### Graph Mini-Batching\n",
    "Before diving into the actual model, we introduce the concept of mini-batching with graphs. In order to parallelize the processing of a mini-batch of graphs, PyG combines the graphs into a single disconnected graph data object (*torch_geometric.data.Batch*). *torch_geometric.data.Batch* inherits from *torch_geometric.data.Data* (introduced earlier) and contains an additional attribute called `batch`. \n",
    "\n",
    "The `batch` attribute is a vector mapping each node to the index of its corresponding graph within the mini-batch:\n",
    "\n",
    "    batch = [0, ..., 0, 1, ..., n - 2, n - 1, ..., n - 1]\n",
    "\n",
    "This attribute is crucial for associating which graph each node belongs to and can be used to e.g. average the node embeddings for each graph individually to compute graph level embeddings. \n",
    "\n"
   ]
  },
  {
   "cell_type": "markdown",
   "metadata": {
    "id": "Pcic9NNU3nGK"
   },
   "source": [
    "### Implemention\n",
    "Now, we have all of the tools to implement a GCN Graph Prediction model!  \n",
    "\n",
    "We will reuse the existing GCN model to generate `node_embeddings` and then use  `Global Pooling` over the nodes to create graph level embeddings that can be used to predict properties for the each graph. Remeber that the `batch` attribute will be essential for performining Global Pooling over our mini-batch of graphs."
   ]
  },
  {
   "cell_type": "code",
   "metadata": {
    "id": "3_Kq3zyjeZ22"
   },
   "source": [
    "from ogb.graphproppred.mol_encoder import AtomEncoder\n",
    "from torch_geometric.nn import global_add_pool, global_mean_pool\n",
    "\n",
    "\n",
    "### GCN to predict graph property\n",
    "class GCN_Graph(torch.nn.Module):\n",
    "    def __init__(self, hidden_dim, output_dim, num_layers, dropout):\n",
    "        super(GCN_Graph, self).__init__()\n",
    "\n",
    "        # Load encoders for Atoms in molecule graphs\n",
    "        self.node_encoder = AtomEncoder(hidden_dim)\n",
    "\n",
    "        # Node embedding model\n",
    "        # Note that the input_dim and output_dim are set to hidden_dim\n",
    "        self.gnn_node = GCN(hidden_dim, hidden_dim,\n",
    "                            hidden_dim, num_layers, dropout, return_embeds=True)\n",
    "\n",
    "        self.pool = None\n",
    "\n",
    "        ############# Your code here ############\n",
    "        ## Note:\n",
    "        ## 1. Initialize self.pool as a global mean pooling layer\n",
    "        ## For more information please refer to the documentation:\n",
    "        ## https://pytorch-geometric.readthedocs.io/en/latest/modules/nn.html#global-pooling-layers\n",
    "        self.pool = global_mean_pool\n",
    "        #########################################\n",
    "\n",
    "        # Output layer\n",
    "        self.linear = torch.nn.Linear(hidden_dim, output_dim)\n",
    "\n",
    "    def reset_parameters(self):\n",
    "        self.gnn_node.reset_parameters()\n",
    "        self.linear.reset_parameters()\n",
    "\n",
    "    def forward(self, batched_data):\n",
    "        # TODO: Implement a function that takes as input a \n",
    "        # mini-batch of graphs (torch_geometric.data.Batch) and \n",
    "        # returns the predicted graph property for each graph. \n",
    "        #\n",
    "        # NOTE: Since we are predicting graph level properties,\n",
    "        # your output will be a tensor with dimension equaling\n",
    "        # the number of graphs in the mini-batch\n",
    "\n",
    "        # Extract important attributes of our mini-batch\n",
    "        x, edge_index, batch = batched_data.x, batched_data.edge_index, batched_data.batch\n",
    "        embed = self.node_encoder(x)\n",
    "\n",
    "        out = None\n",
    "\n",
    "        ############# Your code here ############\n",
    "        ## Note:\n",
    "        ## 1. Construct node embeddings using existing GCN model\n",
    "        ## 2. Use the global pooling layer to aggregate features for each individual graph\n",
    "        ## For more information please refer to the documentation:\n",
    "        ## https://pytorch-geometric.readthedocs.io/en/latest/modules/nn.html#global-pooling-layers\n",
    "        ## 3. Use a linear layer to predict each graph's property\n",
    "        ## (~3 lines of code)\n",
    "        node_emb = self.gnn_node(embed, edge_index)\n",
    "        out = self.pool(node_emb, batch)\n",
    "        out = self.linear(out)\n",
    "        #########################################\n",
    "\n",
    "        return out"
   ],
   "execution_count": 44,
   "outputs": []
  },
  {
   "cell_type": "code",
   "metadata": {
    "id": "FJjnGuMSbjX0"
   },
   "source": [
    "def train(model, device, data_loader, optimizer, loss_fn):\n",
    "    # TODO: Implement a function that trains your model by \n",
    "    # using the given optimizer and loss_fn.\n",
    "    model.train()\n",
    "    loss = 0\n",
    "\n",
    "    for step, batch in enumerate(tqdm(data_loader, desc=\"Iteration\")):\n",
    "        batch = batch.to(device)\n",
    "\n",
    "        if batch.x.shape[0] == 1 or batch.batch[-1] == 0:\n",
    "            pass\n",
    "        else:\n",
    "            ## ignore nan targets (unlabeled) when computing training loss.\n",
    "            is_labeled = batch.y == batch.y\n",
    "\n",
    "            ############# Your code here ############\n",
    "            ## Note:\n",
    "            ## 1. Zero grad the optimizer\n",
    "            ## 2. Feed the data into the model\n",
    "            ## 3. Use `is_labeled` mask to filter output and labels\n",
    "            ## 4. You may need to change the type of label to torch.float32\n",
    "            ## 5. Feed the output and label to the loss_fn\n",
    "            ## (~3 lines of code)\n",
    "            optimizer.zero_grad()\n",
    "            output = model(batch)\n",
    "            train_predicts = output[is_labeled]\n",
    "            train_labels = batch.y[is_labeled]\n",
    "            loss = loss_fn(train_predicts, train_labels.float())\n",
    "            #########################################\n",
    "\n",
    "            loss.backward()\n",
    "            optimizer.step()\n",
    "\n",
    "    return loss.item()"
   ],
   "execution_count": 45,
   "outputs": []
  },
  {
   "cell_type": "code",
   "metadata": {
    "id": "ztPHXq_Gzn7U"
   },
   "source": [
    "# The evaluation function\n",
    "def eval(model, device, loader, evaluator, save_model_results=False, save_file=None):\n",
    "    model.eval()\n",
    "    y_true = []\n",
    "    y_pred = []\n",
    "\n",
    "    for step, batch in enumerate(tqdm(loader, desc=\"Iteration\")):\n",
    "        batch = batch.to(device)\n",
    "\n",
    "        if batch.x.shape[0] == 1:\n",
    "            pass\n",
    "        else:\n",
    "            with torch.no_grad():\n",
    "                pred = model(batch)\n",
    "\n",
    "            y_true.append(batch.y.view(pred.shape).detach().cpu())\n",
    "            y_pred.append(pred.detach().cpu())\n",
    "\n",
    "    y_true = torch.cat(y_true, dim=0).numpy()\n",
    "    y_pred = torch.cat(y_pred, dim=0).numpy()\n",
    "\n",
    "    input_dict = {\"y_true\": y_true, \"y_pred\": y_pred}\n",
    "\n",
    "    if save_model_results:\n",
    "        print(\"Saving Model Predictions\")\n",
    "\n",
    "        # Create a pandas dataframe with a two columns\n",
    "        # y_pred | y_true\n",
    "        data = {}\n",
    "        data['y_pred'] = y_pred.reshape(-1)\n",
    "        data['y_true'] = y_true.reshape(-1)\n",
    "\n",
    "        df = pd.DataFrame(data=data)\n",
    "        # Save to csv\n",
    "        df.to_csv('ogbg-molhiv_graph_' + save_file + '.csv', sep=',', index=False)\n",
    "\n",
    "    return evaluator.eval(input_dict)"
   ],
   "execution_count": 46,
   "outputs": []
  },
  {
   "cell_type": "code",
   "metadata": {
    "id": "MR1wQ4hMZeMw"
   },
   "source": [
    "if 'IS_GRADESCOPE_ENV' not in os.environ:\n",
    "    model = GCN_Graph(args['hidden_dim'],\n",
    "                      dataset.num_tasks, args['num_layers'],\n",
    "                      args['dropout']).to(device)\n",
    "    evaluator = Evaluator(name='ogbg-molhiv')"
   ],
   "execution_count": 47,
   "outputs": []
  },
  {
   "cell_type": "code",
   "metadata": {
    "id": "qJGTNZiuZy0A",
    "pycharm": {
     "is_executing": true
    }
   },
   "source": [
    "# Please do not change these args\n",
    "# Training should take <10min using GPU runtime\n",
    "import copy\n",
    "\n",
    "if 'IS_GRADESCOPE_ENV' not in os.environ:\n",
    "    model.reset_parameters()\n",
    "\n",
    "    optimizer = torch.optim.Adam(model.parameters(), lr=args['lr'])\n",
    "    loss_fn = torch.nn.BCEWithLogitsLoss()\n",
    "\n",
    "    best_model = None\n",
    "    best_valid_acc = 0\n",
    "\n",
    "    for epoch in range(1, 1 + args[\"epochs\"]):\n",
    "        print('Training...')\n",
    "        loss = train(model, device, train_loader, optimizer, loss_fn)\n",
    "\n",
    "        print('Evaluating...')\n",
    "        train_result = eval(model, device, train_loader, evaluator)\n",
    "        val_result = eval(model, device, valid_loader, evaluator)\n",
    "        test_result = eval(model, device, test_loader, evaluator)\n",
    "\n",
    "        train_acc, valid_acc, test_acc = train_result[dataset.eval_metric], val_result[dataset.eval_metric], test_result[dataset.eval_metric]\n",
    "        if valid_acc > best_valid_acc:\n",
    "            best_valid_acc = valid_acc\n",
    "            best_model = copy.deepcopy(model)\n",
    "        print(f'Epoch: {epoch:02d}, '\n",
    "              f'Loss: {loss:.4f}, '\n",
    "              f'Train: {100 * train_acc:.2f}%, '\n",
    "              f'Valid: {100 * valid_acc:.2f}% '\n",
    "              f'Test: {100 * test_acc:.2f}%')\n"
   ],
   "execution_count": null,
   "outputs": [
    {
     "name": "stdout",
     "output_type": "stream",
     "text": [
      "Training...\n"
     ]
    },
    {
     "data": {
      "text/plain": "Iteration:   0%|          | 0/1029 [00:00<?, ?it/s]",
      "application/vnd.jupyter.widget-view+json": {
       "version_major": 2,
       "version_minor": 0,
       "model_id": "db9110aed47b463e927212255592a1fe"
      }
     },
     "metadata": {},
     "output_type": "display_data"
    },
    {
     "name": "stdout",
     "output_type": "stream",
     "text": [
      "Evaluating...\n"
     ]
    },
    {
     "data": {
      "text/plain": "Iteration:   0%|          | 0/1029 [00:00<?, ?it/s]",
      "application/vnd.jupyter.widget-view+json": {
       "version_major": 2,
       "version_minor": 0,
       "model_id": "918851416e404222923956510c258043"
      }
     },
     "metadata": {},
     "output_type": "display_data"
    },
    {
     "data": {
      "text/plain": "Iteration:   0%|          | 0/129 [00:00<?, ?it/s]",
      "application/vnd.jupyter.widget-view+json": {
       "version_major": 2,
       "version_minor": 0,
       "model_id": "bde0468b5181430faf544945e12a32d7"
      }
     },
     "metadata": {},
     "output_type": "display_data"
    },
    {
     "data": {
      "text/plain": "Iteration:   0%|          | 0/129 [00:00<?, ?it/s]",
      "application/vnd.jupyter.widget-view+json": {
       "version_major": 2,
       "version_minor": 0,
       "model_id": "fbafa1d96c3e4839b2dab75e05412130"
      }
     },
     "metadata": {},
     "output_type": "display_data"
    },
    {
     "name": "stdout",
     "output_type": "stream",
     "text": [
      "Epoch: 01, Loss: 0.0301, Train: 73.34%, Valid: 74.28% Test: 71.73%\n",
      "Training...\n"
     ]
    },
    {
     "data": {
      "text/plain": "Iteration:   0%|          | 0/1029 [00:00<?, ?it/s]",
      "application/vnd.jupyter.widget-view+json": {
       "version_major": 2,
       "version_minor": 0,
       "model_id": "1f29f02d9c9a41aab44e95e33e3df7de"
      }
     },
     "metadata": {},
     "output_type": "display_data"
    },
    {
     "name": "stdout",
     "output_type": "stream",
     "text": [
      "Evaluating...\n"
     ]
    },
    {
     "data": {
      "text/plain": "Iteration:   0%|          | 0/1029 [00:00<?, ?it/s]",
      "application/vnd.jupyter.widget-view+json": {
       "version_major": 2,
       "version_minor": 0,
       "model_id": "03eb17852b9f4cedb4a5b228cfc44844"
      }
     },
     "metadata": {},
     "output_type": "display_data"
    },
    {
     "data": {
      "text/plain": "Iteration:   0%|          | 0/129 [00:00<?, ?it/s]",
      "application/vnd.jupyter.widget-view+json": {
       "version_major": 2,
       "version_minor": 0,
       "model_id": "a814f72a3b6e4cc290f2eb7482b15ac7"
      }
     },
     "metadata": {},
     "output_type": "display_data"
    },
    {
     "data": {
      "text/plain": "Iteration:   0%|          | 0/129 [00:00<?, ?it/s]",
      "application/vnd.jupyter.widget-view+json": {
       "version_major": 2,
       "version_minor": 0,
       "model_id": "5bc6cb3e376e425d835a9c2f687a6373"
      }
     },
     "metadata": {},
     "output_type": "display_data"
    },
    {
     "name": "stdout",
     "output_type": "stream",
     "text": [
      "Epoch: 02, Loss: 0.0281, Train: 76.06%, Valid: 72.31% Test: 70.29%\n",
      "Training...\n"
     ]
    },
    {
     "data": {
      "text/plain": "Iteration:   0%|          | 0/1029 [00:00<?, ?it/s]",
      "application/vnd.jupyter.widget-view+json": {
       "version_major": 2,
       "version_minor": 0,
       "model_id": "e6e57514ec1b4c189463922271693c32"
      }
     },
     "metadata": {},
     "output_type": "display_data"
    },
    {
     "name": "stdout",
     "output_type": "stream",
     "text": [
      "Evaluating...\n"
     ]
    },
    {
     "data": {
      "text/plain": "Iteration:   0%|          | 0/1029 [00:00<?, ?it/s]",
      "application/vnd.jupyter.widget-view+json": {
       "version_major": 2,
       "version_minor": 0,
       "model_id": "1b9d9f87045d4a749a5e0fbee192bfe1"
      }
     },
     "metadata": {},
     "output_type": "display_data"
    },
    {
     "data": {
      "text/plain": "Iteration:   0%|          | 0/129 [00:00<?, ?it/s]",
      "application/vnd.jupyter.widget-view+json": {
       "version_major": 2,
       "version_minor": 0,
       "model_id": "e016a239da8c4c94994fe2591307818a"
      }
     },
     "metadata": {},
     "output_type": "display_data"
    }
   ]
  },
  {
   "cell_type": "markdown",
   "metadata": {
    "id": "6I17-Qso_n88"
   },
   "source": [
    "## Question 6: What are your `best_model` validation and test ROC-AUC scores? (20 points)\n",
    "\n",
    "Run the cell below to see the results of your best of model and save your model's predictions over the validation and test datasets. The resulting files are named *ogbn-arxiv_graph_valid.csv* and *ogbn-arxiv_graph_test.csv*. \n",
    "\n",
    "Again, you can view these files by clicking on the *Folder* icon on the left side pannel. As in Colab 1, when you sumbit your assignment, you will have to download these files and attatch them to your submission."
   ]
  },
  {
   "cell_type": "code",
   "metadata": {
    "id": "Oq5QaG21dOOO"
   },
   "source": [
    "if 'IS_GRADESCOPE_ENV' not in os.environ:\n",
    "    train_acc = eval(best_model, device, train_loader, evaluator)[dataset.eval_metric]\n",
    "    valid_acc = eval(best_model, device, valid_loader, evaluator, save_model_results=True, save_file=\"valid\")[\n",
    "        dataset.eval_metric]\n",
    "    test_acc = eval(best_model, device, test_loader, evaluator, save_model_results=True, save_file=\"test\")[\n",
    "        dataset.eval_metric]\n",
    "\n",
    "    print(f'Best model: '\n",
    "          f'Train: {100 * train_acc:.2f}%, '\n",
    "          f'Valid: {100 * valid_acc:.2f}% '\n",
    "          f'Test: {100 * test_acc:.2f}%')"
   ],
   "execution_count": null,
   "outputs": []
  },
  {
   "cell_type": "markdown",
   "metadata": {
    "id": "gBi_t8n0iZ4P"
   },
   "source": [
    "## Question 7 (Optional): Experiment with the two other global pooling layers in Pytorch Geometric."
   ]
  },
  {
   "cell_type": "markdown",
   "metadata": {
    "id": "e7JXsMTBgeOI"
   },
   "source": [
    "# Submission\n",
    "\n",
    "To submit Colab 2, please submit to the following assignments on Gradescope:\n",
    "\n",
    "1. \"Colab 2\": submit your answers to the questions in this assignment\n",
    "2. \"Colab 2 Code\": submit your completed *CS224W_Colab2.ipynb*. From the \"File\" menu select \"Download .ipynb\" to save a local copy of your completed Colab. **PLEASE DO NOT CHANGE THE NAME!** The autograder depends on the .ipynb file being called \"CS224W_Colab2.ipynb\"."
   ]
  },
  {
   "cell_type": "code",
   "source": [],
   "metadata": {
    "id": "L3Q5WmndEnAJ"
   },
   "execution_count": null,
   "outputs": []
  }
 ]
}
