{
 "cells": [
  {
   "cell_type": "code",
   "execution_count": 4,
   "metadata": {
    "collapsed": true
   },
   "outputs": [],
   "source": [
    "import pandas as pd\n",
    "import numpy as np\n",
    "import matplotlib.pyplot as plt\n",
    "import requests\n",
    "import Bio.PDB\n",
    "from sklearn.metrics import pairwise_distances\n",
    "%matplotlib inline\n"
   ]
  },
  {
   "cell_type": "code",
   "execution_count": 14,
   "outputs": [
    {
     "name": "stderr",
     "output_type": "stream",
     "text": [
      "E:\\ProgramData\\Anaconda3\\envs\\pyg\\lib\\site-packages\\Bio\\PDB\\StructureBuilder.py:89: PDBConstructionWarning: WARNING: Chain A is discontinuous at line 5853.\n",
      "  warnings.warn(\n",
      "E:\\ProgramData\\Anaconda3\\envs\\pyg\\lib\\site-packages\\Bio\\PDB\\StructureBuilder.py:89: PDBConstructionWarning: WARNING: Chain B is discontinuous at line 5878.\n",
      "  warnings.warn(\n",
      "E:\\ProgramData\\Anaconda3\\envs\\pyg\\lib\\site-packages\\Bio\\PDB\\StructureBuilder.py:89: PDBConstructionWarning: WARNING: Chain A is discontinuous at line 5903.\n",
      "  warnings.warn(\n",
      "E:\\ProgramData\\Anaconda3\\envs\\pyg\\lib\\site-packages\\Bio\\PDB\\StructureBuilder.py:89: PDBConstructionWarning: WARNING: Chain B is discontinuous at line 5919.\n",
      "  warnings.warn(\n"
     ]
    }
   ],
   "source": [
    "pdb_code = \"1F88\"\n",
    "pdb_filename = \"./dataset/1f88.pdb\" #not the full cage!\n",
    "\n",
    "def calc_residue_dist(residue_one, residue_two) :\n",
    "    \"\"\"Returns the C-alpha distance between two residues\"\"\"\n",
    "    diff_vector  = residue_one[\"CA\"].coord - residue_two[\"CA\"].coord\n",
    "    return np.sqrt(np.sum(diff_vector * diff_vector))\n",
    "\n",
    "def calc_dist_matrix(chain_one, chain_two) :\n",
    "    \"\"\"Returns a matrix of C-alpha distances between two chains\"\"\"\n",
    "    answer = np.zeros((len(chain_one), len(chain_two)), np.float)\n",
    "    for row, residue_one in enumerate(chain_one) :\n",
    "        for col, residue_two in enumerate(chain_two) :\n",
    "            answer[row, col] = calc_residue_dist(residue_one, residue_two)\n",
    "    return answer\n",
    "\n",
    "structure = Bio.PDB.PDBParser().get_structure(pdb_code, pdb_filename)\n",
    "model = structure[0]"
   ],
   "metadata": {
    "collapsed": false
   }
  },
  {
   "cell_type": "code",
   "execution_count": 15,
   "outputs": [
    {
     "data": {
      "text/plain": "{'A': <Chain id=A>,\n 'B': <Chain id=B>,\n 'C': <Chain id=C>,\n 'D': <Chain id=D>,\n 'E': <Chain id=E>,\n 'F': <Chain id=F>}"
     },
     "execution_count": 15,
     "metadata": {},
     "output_type": "execute_result"
    }
   ],
   "source": [
    "model.child_dict"
   ],
   "metadata": {
    "collapsed": false
   }
  },
  {
   "cell_type": "code",
   "execution_count": 22,
   "outputs": [
    {
     "data": {
      "text/plain": "{(' ', 1, ' '): <Residue MET het=  resseq=1 icode= >,\n (' ', 2, ' '): <Residue ASN het=  resseq=2 icode= >,\n (' ', 3, ' '): <Residue GLY het=  resseq=3 icode= >,\n (' ', 4, ' '): <Residue THR het=  resseq=4 icode= >,\n (' ', 5, ' '): <Residue GLU het=  resseq=5 icode= >,\n (' ', 6, ' '): <Residue GLY het=  resseq=6 icode= >,\n (' ', 7, ' '): <Residue PRO het=  resseq=7 icode= >,\n (' ', 8, ' '): <Residue ASN het=  resseq=8 icode= >,\n (' ', 9, ' '): <Residue PHE het=  resseq=9 icode= >,\n (' ', 10, ' '): <Residue TYR het=  resseq=10 icode= >,\n (' ', 11, ' '): <Residue VAL het=  resseq=11 icode= >,\n (' ', 12, ' '): <Residue PRO het=  resseq=12 icode= >,\n (' ', 13, ' '): <Residue PHE het=  resseq=13 icode= >,\n (' ', 14, ' '): <Residue SER het=  resseq=14 icode= >,\n (' ', 15, ' '): <Residue ASN het=  resseq=15 icode= >,\n (' ', 16, ' '): <Residue LYS het=  resseq=16 icode= >,\n (' ', 17, ' '): <Residue THR het=  resseq=17 icode= >,\n (' ', 18, ' '): <Residue GLY het=  resseq=18 icode= >,\n (' ', 19, ' '): <Residue VAL het=  resseq=19 icode= >,\n (' ', 20, ' '): <Residue VAL het=  resseq=20 icode= >,\n (' ', 21, ' '): <Residue ARG het=  resseq=21 icode= >,\n (' ', 22, ' '): <Residue SER het=  resseq=22 icode= >,\n (' ', 23, ' '): <Residue PRO het=  resseq=23 icode= >,\n (' ', 24, ' '): <Residue PHE het=  resseq=24 icode= >,\n (' ', 25, ' '): <Residue GLU het=  resseq=25 icode= >,\n (' ', 26, ' '): <Residue ALA het=  resseq=26 icode= >,\n (' ', 27, ' '): <Residue PRO het=  resseq=27 icode= >,\n (' ', 28, ' '): <Residue GLN het=  resseq=28 icode= >,\n (' ', 29, ' '): <Residue TYR het=  resseq=29 icode= >,\n (' ', 30, ' '): <Residue TYR het=  resseq=30 icode= >,\n (' ', 31, ' '): <Residue LEU het=  resseq=31 icode= >,\n (' ', 32, ' '): <Residue ALA het=  resseq=32 icode= >,\n (' ', 33, ' '): <Residue GLU het=  resseq=33 icode= >,\n (' ', 34, ' '): <Residue PRO het=  resseq=34 icode= >,\n (' ', 35, ' '): <Residue TRP het=  resseq=35 icode= >,\n (' ', 36, ' '): <Residue GLN het=  resseq=36 icode= >,\n (' ', 37, ' '): <Residue PHE het=  resseq=37 icode= >,\n (' ', 38, ' '): <Residue SER het=  resseq=38 icode= >,\n (' ', 39, ' '): <Residue MET het=  resseq=39 icode= >,\n (' ', 40, ' '): <Residue LEU het=  resseq=40 icode= >,\n (' ', 41, ' '): <Residue ALA het=  resseq=41 icode= >,\n (' ', 42, ' '): <Residue ALA het=  resseq=42 icode= >,\n (' ', 43, ' '): <Residue TYR het=  resseq=43 icode= >,\n (' ', 44, ' '): <Residue MET het=  resseq=44 icode= >,\n (' ', 45, ' '): <Residue PHE het=  resseq=45 icode= >,\n (' ', 46, ' '): <Residue LEU het=  resseq=46 icode= >,\n (' ', 47, ' '): <Residue LEU het=  resseq=47 icode= >,\n (' ', 48, ' '): <Residue ILE het=  resseq=48 icode= >,\n (' ', 49, ' '): <Residue MET het=  resseq=49 icode= >,\n (' ', 50, ' '): <Residue LEU het=  resseq=50 icode= >,\n (' ', 51, ' '): <Residue GLY het=  resseq=51 icode= >,\n (' ', 52, ' '): <Residue PHE het=  resseq=52 icode= >,\n (' ', 53, ' '): <Residue PRO het=  resseq=53 icode= >,\n (' ', 54, ' '): <Residue ILE het=  resseq=54 icode= >,\n (' ', 55, ' '): <Residue ASN het=  resseq=55 icode= >,\n (' ', 56, ' '): <Residue PHE het=  resseq=56 icode= >,\n (' ', 57, ' '): <Residue LEU het=  resseq=57 icode= >,\n (' ', 58, ' '): <Residue THR het=  resseq=58 icode= >,\n (' ', 59, ' '): <Residue LEU het=  resseq=59 icode= >,\n (' ', 60, ' '): <Residue TYR het=  resseq=60 icode= >,\n (' ', 61, ' '): <Residue VAL het=  resseq=61 icode= >,\n (' ', 62, ' '): <Residue THR het=  resseq=62 icode= >,\n (' ', 63, ' '): <Residue VAL het=  resseq=63 icode= >,\n (' ', 64, ' '): <Residue GLN het=  resseq=64 icode= >,\n (' ', 65, ' '): <Residue HIS het=  resseq=65 icode= >,\n (' ', 66, ' '): <Residue LYS het=  resseq=66 icode= >,\n (' ', 67, ' '): <Residue LYS het=  resseq=67 icode= >,\n (' ', 68, ' '): <Residue LEU het=  resseq=68 icode= >,\n (' ', 69, ' '): <Residue ARG het=  resseq=69 icode= >,\n (' ', 70, ' '): <Residue THR het=  resseq=70 icode= >,\n (' ', 71, ' '): <Residue PRO het=  resseq=71 icode= >,\n (' ', 72, ' '): <Residue LEU het=  resseq=72 icode= >,\n (' ', 73, ' '): <Residue ASN het=  resseq=73 icode= >,\n (' ', 74, ' '): <Residue TYR het=  resseq=74 icode= >,\n (' ', 75, ' '): <Residue ILE het=  resseq=75 icode= >,\n (' ', 76, ' '): <Residue LEU het=  resseq=76 icode= >,\n (' ', 77, ' '): <Residue LEU het=  resseq=77 icode= >,\n (' ', 78, ' '): <Residue ASN het=  resseq=78 icode= >,\n (' ', 79, ' '): <Residue LEU het=  resseq=79 icode= >,\n (' ', 80, ' '): <Residue ALA het=  resseq=80 icode= >,\n (' ', 81, ' '): <Residue VAL het=  resseq=81 icode= >,\n (' ', 82, ' '): <Residue ALA het=  resseq=82 icode= >,\n (' ', 83, ' '): <Residue ASP het=  resseq=83 icode= >,\n (' ', 84, ' '): <Residue LEU het=  resseq=84 icode= >,\n (' ', 85, ' '): <Residue PHE het=  resseq=85 icode= >,\n (' ', 86, ' '): <Residue MET het=  resseq=86 icode= >,\n (' ', 87, ' '): <Residue VAL het=  resseq=87 icode= >,\n (' ', 88, ' '): <Residue PHE het=  resseq=88 icode= >,\n (' ', 89, ' '): <Residue GLY het=  resseq=89 icode= >,\n (' ', 90, ' '): <Residue GLY het=  resseq=90 icode= >,\n (' ', 91, ' '): <Residue PHE het=  resseq=91 icode= >,\n (' ', 92, ' '): <Residue THR het=  resseq=92 icode= >,\n (' ', 93, ' '): <Residue THR het=  resseq=93 icode= >,\n (' ', 94, ' '): <Residue THR het=  resseq=94 icode= >,\n (' ', 95, ' '): <Residue LEU het=  resseq=95 icode= >,\n (' ', 96, ' '): <Residue TYR het=  resseq=96 icode= >,\n (' ', 97, ' '): <Residue THR het=  resseq=97 icode= >,\n (' ', 98, ' '): <Residue SER het=  resseq=98 icode= >,\n (' ', 99, ' '): <Residue LEU het=  resseq=99 icode= >,\n (' ', 100, ' '): <Residue HIS het=  resseq=100 icode= >,\n (' ', 101, ' '): <Residue GLY het=  resseq=101 icode= >,\n (' ', 102, ' '): <Residue TYR het=  resseq=102 icode= >,\n (' ', 103, ' '): <Residue PHE het=  resseq=103 icode= >,\n (' ', 104, ' '): <Residue VAL het=  resseq=104 icode= >,\n (' ', 105, ' '): <Residue PHE het=  resseq=105 icode= >,\n (' ', 106, ' '): <Residue GLY het=  resseq=106 icode= >,\n (' ', 107, ' '): <Residue PRO het=  resseq=107 icode= >,\n (' ', 108, ' '): <Residue THR het=  resseq=108 icode= >,\n (' ', 109, ' '): <Residue GLY het=  resseq=109 icode= >,\n (' ', 110, ' '): <Residue CYS het=  resseq=110 icode= >,\n (' ', 111, ' '): <Residue ASN het=  resseq=111 icode= >,\n (' ', 112, ' '): <Residue LEU het=  resseq=112 icode= >,\n (' ', 113, ' '): <Residue GLU het=  resseq=113 icode= >,\n (' ', 114, ' '): <Residue GLY het=  resseq=114 icode= >,\n (' ', 115, ' '): <Residue PHE het=  resseq=115 icode= >,\n (' ', 116, ' '): <Residue PHE het=  resseq=116 icode= >,\n (' ', 117, ' '): <Residue ALA het=  resseq=117 icode= >,\n (' ', 118, ' '): <Residue THR het=  resseq=118 icode= >,\n (' ', 119, ' '): <Residue LEU het=  resseq=119 icode= >,\n (' ', 120, ' '): <Residue GLY het=  resseq=120 icode= >,\n (' ', 121, ' '): <Residue GLY het=  resseq=121 icode= >,\n (' ', 122, ' '): <Residue GLU het=  resseq=122 icode= >,\n (' ', 123, ' '): <Residue ILE het=  resseq=123 icode= >,\n (' ', 124, ' '): <Residue ALA het=  resseq=124 icode= >,\n (' ', 125, ' '): <Residue LEU het=  resseq=125 icode= >,\n (' ', 126, ' '): <Residue TRP het=  resseq=126 icode= >,\n (' ', 127, ' '): <Residue SER het=  resseq=127 icode= >,\n (' ', 128, ' '): <Residue LEU het=  resseq=128 icode= >,\n (' ', 129, ' '): <Residue VAL het=  resseq=129 icode= >,\n (' ', 130, ' '): <Residue VAL het=  resseq=130 icode= >,\n (' ', 131, ' '): <Residue LEU het=  resseq=131 icode= >,\n (' ', 132, ' '): <Residue ALA het=  resseq=132 icode= >,\n (' ', 133, ' '): <Residue ILE het=  resseq=133 icode= >,\n (' ', 134, ' '): <Residue GLU het=  resseq=134 icode= >,\n (' ', 135, ' '): <Residue ARG het=  resseq=135 icode= >,\n (' ', 136, ' '): <Residue TYR het=  resseq=136 icode= >,\n (' ', 137, ' '): <Residue VAL het=  resseq=137 icode= >,\n (' ', 138, ' '): <Residue VAL het=  resseq=138 icode= >,\n (' ', 139, ' '): <Residue VAL het=  resseq=139 icode= >,\n (' ', 140, ' '): <Residue CYS het=  resseq=140 icode= >,\n (' ', 141, ' '): <Residue LYS het=  resseq=141 icode= >,\n (' ', 142, ' '): <Residue PRO het=  resseq=142 icode= >,\n (' ', 143, ' '): <Residue MET het=  resseq=143 icode= >,\n (' ', 144, ' '): <Residue SER het=  resseq=144 icode= >,\n (' ', 145, ' '): <Residue ASN het=  resseq=145 icode= >,\n (' ', 146, ' '): <Residue PHE het=  resseq=146 icode= >,\n (' ', 147, ' '): <Residue ARG het=  resseq=147 icode= >,\n (' ', 148, ' '): <Residue PHE het=  resseq=148 icode= >,\n (' ', 149, ' '): <Residue GLY het=  resseq=149 icode= >,\n (' ', 150, ' '): <Residue GLU het=  resseq=150 icode= >,\n (' ', 151, ' '): <Residue ASN het=  resseq=151 icode= >,\n (' ', 152, ' '): <Residue HIS het=  resseq=152 icode= >,\n (' ', 153, ' '): <Residue ALA het=  resseq=153 icode= >,\n (' ', 154, ' '): <Residue ILE het=  resseq=154 icode= >,\n (' ', 155, ' '): <Residue MET het=  resseq=155 icode= >,\n (' ', 156, ' '): <Residue GLY het=  resseq=156 icode= >,\n (' ', 157, ' '): <Residue VAL het=  resseq=157 icode= >,\n (' ', 158, ' '): <Residue ALA het=  resseq=158 icode= >,\n (' ', 159, ' '): <Residue PHE het=  resseq=159 icode= >,\n (' ', 160, ' '): <Residue THR het=  resseq=160 icode= >,\n (' ', 161, ' '): <Residue TRP het=  resseq=161 icode= >,\n (' ', 162, ' '): <Residue VAL het=  resseq=162 icode= >,\n (' ', 163, ' '): <Residue MET het=  resseq=163 icode= >,\n (' ', 164, ' '): <Residue ALA het=  resseq=164 icode= >,\n (' ', 165, ' '): <Residue LEU het=  resseq=165 icode= >,\n (' ', 166, ' '): <Residue ALA het=  resseq=166 icode= >,\n (' ', 167, ' '): <Residue CYS het=  resseq=167 icode= >,\n (' ', 168, ' '): <Residue ALA het=  resseq=168 icode= >,\n (' ', 169, ' '): <Residue ALA het=  resseq=169 icode= >,\n (' ', 170, ' '): <Residue PRO het=  resseq=170 icode= >,\n (' ', 171, ' '): <Residue PRO het=  resseq=171 icode= >,\n (' ', 172, ' '): <Residue LEU het=  resseq=172 icode= >,\n (' ', 173, ' '): <Residue VAL het=  resseq=173 icode= >,\n (' ', 174, ' '): <Residue GLY het=  resseq=174 icode= >,\n (' ', 175, ' '): <Residue TRP het=  resseq=175 icode= >,\n (' ', 176, ' '): <Residue SER het=  resseq=176 icode= >,\n (' ', 177, ' '): <Residue ARG het=  resseq=177 icode= >,\n (' ', 178, ' '): <Residue TYR het=  resseq=178 icode= >,\n (' ', 179, ' '): <Residue ILE het=  resseq=179 icode= >,\n (' ', 180, ' '): <Residue PRO het=  resseq=180 icode= >,\n (' ', 181, ' '): <Residue GLU het=  resseq=181 icode= >,\n (' ', 182, ' '): <Residue GLY het=  resseq=182 icode= >,\n (' ', 183, ' '): <Residue MET het=  resseq=183 icode= >,\n (' ', 184, ' '): <Residue GLN het=  resseq=184 icode= >,\n (' ', 185, ' '): <Residue CYS het=  resseq=185 icode= >,\n (' ', 186, ' '): <Residue SER het=  resseq=186 icode= >,\n (' ', 187, ' '): <Residue CYS het=  resseq=187 icode= >,\n (' ', 188, ' '): <Residue GLY het=  resseq=188 icode= >,\n (' ', 189, ' '): <Residue ILE het=  resseq=189 icode= >,\n (' ', 190, ' '): <Residue ASP het=  resseq=190 icode= >,\n (' ', 191, ' '): <Residue TYR het=  resseq=191 icode= >,\n (' ', 192, ' '): <Residue TYR het=  resseq=192 icode= >,\n (' ', 193, ' '): <Residue THR het=  resseq=193 icode= >,\n (' ', 194, ' '): <Residue PRO het=  resseq=194 icode= >,\n (' ', 195, ' '): <Residue HIS het=  resseq=195 icode= >,\n (' ', 196, ' '): <Residue GLU het=  resseq=196 icode= >,\n (' ', 197, ' '): <Residue GLU het=  resseq=197 icode= >,\n (' ', 198, ' '): <Residue THR het=  resseq=198 icode= >,\n (' ', 199, ' '): <Residue ASN het=  resseq=199 icode= >,\n (' ', 200, ' '): <Residue ASN het=  resseq=200 icode= >,\n (' ', 201, ' '): <Residue GLU het=  resseq=201 icode= >,\n (' ', 202, ' '): <Residue SER het=  resseq=202 icode= >,\n (' ', 203, ' '): <Residue PHE het=  resseq=203 icode= >,\n (' ', 204, ' '): <Residue VAL het=  resseq=204 icode= >,\n (' ', 205, ' '): <Residue ILE het=  resseq=205 icode= >,\n (' ', 206, ' '): <Residue TYR het=  resseq=206 icode= >,\n (' ', 207, ' '): <Residue MET het=  resseq=207 icode= >,\n (' ', 208, ' '): <Residue PHE het=  resseq=208 icode= >,\n (' ', 209, ' '): <Residue VAL het=  resseq=209 icode= >,\n (' ', 210, ' '): <Residue VAL het=  resseq=210 icode= >,\n (' ', 211, ' '): <Residue HIS het=  resseq=211 icode= >,\n (' ', 212, ' '): <Residue PHE het=  resseq=212 icode= >,\n (' ', 213, ' '): <Residue ILE het=  resseq=213 icode= >,\n (' ', 214, ' '): <Residue ILE het=  resseq=214 icode= >,\n (' ', 215, ' '): <Residue PRO het=  resseq=215 icode= >,\n (' ', 216, ' '): <Residue LEU het=  resseq=216 icode= >,\n (' ', 217, ' '): <Residue ILE het=  resseq=217 icode= >,\n (' ', 218, ' '): <Residue VAL het=  resseq=218 icode= >,\n (' ', 219, ' '): <Residue ILE het=  resseq=219 icode= >,\n (' ', 220, ' '): <Residue PHE het=  resseq=220 icode= >,\n (' ', 221, ' '): <Residue PHE het=  resseq=221 icode= >,\n (' ', 222, ' '): <Residue CYS het=  resseq=222 icode= >,\n (' ', 223, ' '): <Residue TYR het=  resseq=223 icode= >,\n (' ', 224, ' '): <Residue GLY het=  resseq=224 icode= >,\n (' ', 225, ' '): <Residue GLN het=  resseq=225 icode= >,\n (' ', 226, ' '): <Residue LEU het=  resseq=226 icode= >,\n (' ', 227, ' '): <Residue VAL het=  resseq=227 icode= >,\n (' ', 228, ' '): <Residue PHE het=  resseq=228 icode= >,\n (' ', 229, ' '): <Residue THR het=  resseq=229 icode= >,\n (' ', 230, ' '): <Residue VAL het=  resseq=230 icode= >,\n (' ', 231, ' '): <Residue LYS het=  resseq=231 icode= >,\n (' ', 232, ' '): <Residue GLU het=  resseq=232 icode= >,\n (' ', 233, ' '): <Residue ALA het=  resseq=233 icode= >,\n (' ', 234, ' '): <Residue ALA het=  resseq=234 icode= >,\n (' ', 235, ' '): <Residue ALA het=  resseq=235 icode= >,\n (' ', 240, ' '): <Residue SER het=  resseq=240 icode= >,\n (' ', 241, ' '): <Residue ALA het=  resseq=241 icode= >,\n (' ', 242, ' '): <Residue THR het=  resseq=242 icode= >,\n (' ', 243, ' '): <Residue THR het=  resseq=243 icode= >,\n (' ', 244, ' '): <Residue GLN het=  resseq=244 icode= >,\n (' ', 245, ' '): <Residue LYS het=  resseq=245 icode= >,\n (' ', 246, ' '): <Residue ALA het=  resseq=246 icode= >,\n (' ', 247, ' '): <Residue GLU het=  resseq=247 icode= >,\n (' ', 248, ' '): <Residue LYS het=  resseq=248 icode= >,\n (' ', 249, ' '): <Residue GLU het=  resseq=249 icode= >,\n (' ', 250, ' '): <Residue VAL het=  resseq=250 icode= >,\n (' ', 251, ' '): <Residue THR het=  resseq=251 icode= >,\n (' ', 252, ' '): <Residue ARG het=  resseq=252 icode= >,\n (' ', 253, ' '): <Residue MET het=  resseq=253 icode= >,\n (' ', 254, ' '): <Residue VAL het=  resseq=254 icode= >,\n (' ', 255, ' '): <Residue ILE het=  resseq=255 icode= >,\n (' ', 256, ' '): <Residue ILE het=  resseq=256 icode= >,\n (' ', 257, ' '): <Residue MET het=  resseq=257 icode= >,\n (' ', 258, ' '): <Residue VAL het=  resseq=258 icode= >,\n (' ', 259, ' '): <Residue ILE het=  resseq=259 icode= >,\n (' ', 260, ' '): <Residue ALA het=  resseq=260 icode= >,\n (' ', 261, ' '): <Residue PHE het=  resseq=261 icode= >,\n (' ', 262, ' '): <Residue LEU het=  resseq=262 icode= >,\n (' ', 263, ' '): <Residue ILE het=  resseq=263 icode= >,\n (' ', 264, ' '): <Residue CYS het=  resseq=264 icode= >,\n (' ', 265, ' '): <Residue TRP het=  resseq=265 icode= >,\n (' ', 266, ' '): <Residue LEU het=  resseq=266 icode= >,\n (' ', 267, ' '): <Residue PRO het=  resseq=267 icode= >,\n (' ', 268, ' '): <Residue TYR het=  resseq=268 icode= >,\n (' ', 269, ' '): <Residue ALA het=  resseq=269 icode= >,\n (' ', 270, ' '): <Residue GLY het=  resseq=270 icode= >,\n (' ', 271, ' '): <Residue VAL het=  resseq=271 icode= >,\n (' ', 272, ' '): <Residue ALA het=  resseq=272 icode= >,\n (' ', 273, ' '): <Residue PHE het=  resseq=273 icode= >,\n (' ', 274, ' '): <Residue TYR het=  resseq=274 icode= >,\n (' ', 275, ' '): <Residue ILE het=  resseq=275 icode= >,\n (' ', 276, ' '): <Residue PHE het=  resseq=276 icode= >,\n (' ', 277, ' '): <Residue THR het=  resseq=277 icode= >,\n (' ', 278, ' '): <Residue HIS het=  resseq=278 icode= >,\n (' ', 279, ' '): <Residue GLN het=  resseq=279 icode= >,\n (' ', 280, ' '): <Residue GLY het=  resseq=280 icode= >,\n (' ', 281, ' '): <Residue SER het=  resseq=281 icode= >,\n (' ', 282, ' '): <Residue ASP het=  resseq=282 icode= >,\n (' ', 283, ' '): <Residue PHE het=  resseq=283 icode= >,\n (' ', 284, ' '): <Residue GLY het=  resseq=284 icode= >,\n (' ', 285, ' '): <Residue PRO het=  resseq=285 icode= >,\n (' ', 286, ' '): <Residue ILE het=  resseq=286 icode= >,\n (' ', 287, ' '): <Residue PHE het=  resseq=287 icode= >,\n (' ', 288, ' '): <Residue MET het=  resseq=288 icode= >,\n (' ', 289, ' '): <Residue THR het=  resseq=289 icode= >,\n (' ', 290, ' '): <Residue ILE het=  resseq=290 icode= >,\n (' ', 291, ' '): <Residue PRO het=  resseq=291 icode= >,\n (' ', 292, ' '): <Residue ALA het=  resseq=292 icode= >,\n (' ', 293, ' '): <Residue PHE het=  resseq=293 icode= >,\n (' ', 294, ' '): <Residue PHE het=  resseq=294 icode= >,\n (' ', 295, ' '): <Residue ALA het=  resseq=295 icode= >,\n (' ', 296, ' '): <Residue LYS het=  resseq=296 icode= >,\n (' ', 297, ' '): <Residue THR het=  resseq=297 icode= >,\n (' ', 298, ' '): <Residue SER het=  resseq=298 icode= >,\n (' ', 299, ' '): <Residue ALA het=  resseq=299 icode= >,\n (' ', 300, ' '): <Residue VAL het=  resseq=300 icode= >,\n (' ', 301, ' '): <Residue TYR het=  resseq=301 icode= >,\n (' ', 302, ' '): <Residue ASN het=  resseq=302 icode= >,\n (' ', 303, ' '): <Residue PRO het=  resseq=303 icode= >,\n (' ', 304, ' '): <Residue VAL het=  resseq=304 icode= >,\n (' ', 305, ' '): <Residue ILE het=  resseq=305 icode= >,\n (' ', 306, ' '): <Residue TYR het=  resseq=306 icode= >,\n (' ', 307, ' '): <Residue ILE het=  resseq=307 icode= >,\n (' ', 308, ' '): <Residue MET het=  resseq=308 icode= >,\n (' ', 309, ' '): <Residue MET het=  resseq=309 icode= >,\n (' ', 310, ' '): <Residue ASN het=  resseq=310 icode= >,\n (' ', 311, ' '): <Residue LYS het=  resseq=311 icode= >,\n (' ', 312, ' '): <Residue GLN het=  resseq=312 icode= >,\n (' ', 313, ' '): <Residue PHE het=  resseq=313 icode= >,\n (' ', 314, ' '): <Residue ARG het=  resseq=314 icode= >,\n (' ', 315, ' '): <Residue ASN het=  resseq=315 icode= >,\n (' ', 316, ' '): <Residue CYS het=  resseq=316 icode= >,\n (' ', 317, ' '): <Residue MET het=  resseq=317 icode= >,\n (' ', 318, ' '): <Residue VAL het=  resseq=318 icode= >,\n (' ', 319, ' '): <Residue THR het=  resseq=319 icode= >,\n (' ', 320, ' '): <Residue THR het=  resseq=320 icode= >,\n (' ', 321, ' '): <Residue LEU het=  resseq=321 icode= >,\n (' ', 322, ' '): <Residue CYS het=  resseq=322 icode= >,\n (' ', 323, ' '): <Residue CYS het=  resseq=323 icode= >,\n (' ', 324, ' '): <Residue GLY het=  resseq=324 icode= >,\n (' ', 325, ' '): <Residue LYS het=  resseq=325 icode= >,\n (' ', 326, ' '): <Residue ASN het=  resseq=326 icode= >,\n (' ', 327, ' '): <Residue PRO het=  resseq=327 icode= >,\n (' ', 334, ' '): <Residue SER het=  resseq=334 icode= >,\n (' ', 335, ' '): <Residue THR het=  resseq=335 icode= >,\n (' ', 336, ' '): <Residue THR het=  resseq=336 icode= >,\n (' ', 337, ' '): <Residue VAL het=  resseq=337 icode= >,\n (' ', 338, ' '): <Residue SER het=  resseq=338 icode= >,\n (' ', 339, ' '): <Residue LYS het=  resseq=339 icode= >,\n (' ', 340, ' '): <Residue THR het=  resseq=340 icode= >,\n (' ', 341, ' '): <Residue GLU het=  resseq=341 icode= >,\n (' ', 342, ' '): <Residue THR het=  resseq=342 icode= >,\n (' ', 343, ' '): <Residue SER het=  resseq=343 icode= >,\n (' ', 344, ' '): <Residue GLN het=  resseq=344 icode= >,\n (' ', 345, ' '): <Residue VAL het=  resseq=345 icode= >,\n (' ', 346, ' '): <Residue ALA het=  resseq=346 icode= >,\n (' ', 347, ' '): <Residue PRO het=  resseq=347 icode= >,\n (' ', 348, ' '): <Residue ALA het=  resseq=348 icode= >,\n ('H_HG', 901, ' '): <Residue HG het=H_HG resseq=901 icode= >,\n ('H_HG', 903, ' '): <Residue HG het=H_HG resseq=903 icode= >,\n ('H_HG', 905, ' '): <Residue HG het=H_HG resseq=905 icode= >,\n ('H_ZN', 907, ' '): <Residue ZN het=H_ZN resseq=907 icode= >,\n ('H_ZN', 910, ' '): <Residue ZN het=H_ZN resseq=910 icode= >,\n ('H_RET', 977, ' '): <Residue RET het=H_RET resseq=977 icode= >,\n ('W', 950, ' '): <Residue HOH het=W resseq=950 icode= >,\n ('W', 952, ' '): <Residue HOH het=W resseq=952 icode= >,\n ('W', 953, ' '): <Residue HOH het=W resseq=953 icode= >,\n ('W', 958, ' '): <Residue HOH het=W resseq=958 icode= >,\n ('W', 959, ' '): <Residue HOH het=W resseq=959 icode= >,\n ('W', 962, ' '): <Residue HOH het=W resseq=962 icode= >,\n ('W', 963, ' '): <Residue HOH het=W resseq=963 icode= >,\n ('W', 964, ' '): <Residue HOH het=W resseq=964 icode= >,\n ('W', 965, ' '): <Residue HOH het=W resseq=965 icode= >,\n ('W', 966, ' '): <Residue HOH het=W resseq=966 icode= >,\n ('W', 967, ' '): <Residue HOH het=W resseq=967 icode= >,\n ('W', 968, ' '): <Residue HOH het=W resseq=968 icode= >,\n ('W', 970, ' '): <Residue HOH het=W resseq=970 icode= >,\n ('W', 971, ' '): <Residue HOH het=W resseq=971 icode= >,\n ('W', 972, ' '): <Residue HOH het=W resseq=972 icode= >,\n ('W', 974, ' '): <Residue HOH het=W resseq=974 icode= >}"
     },
     "execution_count": 22,
     "metadata": {},
     "output_type": "execute_result"
    }
   ],
   "source": [
    "chainA = model['A']\n",
    "chainA.child_dict"
   ],
   "metadata": {
    "collapsed": false
   }
  },
  {
   "cell_type": "code",
   "execution_count": 19,
   "outputs": [
    {
     "name": "stderr",
     "output_type": "stream",
     "text": [
      "C:\\Users\\10095\\AppData\\Local\\Temp\\ipykernel_18636\\1149792758.py:11: DeprecationWarning: `np.float` is a deprecated alias for the builtin `float`. To silence this warning, use `float` by itself. Doing this will not modify any behavior and is safe. If you specifically wanted the numpy scalar type, use `np.float64` here.\n",
      "Deprecated in NumPy 1.20; for more details and guidance: https://numpy.org/devdocs/release/1.20.0-notes.html#deprecations\n",
      "  answer = np.zeros((len(chain_one), len(chain_two)), np.float)\n"
     ]
    },
    {
     "ename": "KeyError",
     "evalue": "'CA'",
     "output_type": "error",
     "traceback": [
      "\u001B[1;31m---------------------------------------------------------------------------\u001B[0m",
      "\u001B[1;31mKeyError\u001B[0m                                  Traceback (most recent call last)",
      "Cell \u001B[1;32mIn[19], line 1\u001B[0m\n\u001B[1;32m----> 1\u001B[0m dist_matrix \u001B[38;5;241m=\u001B[39m \u001B[43mcalc_dist_matrix\u001B[49m\u001B[43m(\u001B[49m\u001B[43mmodel\u001B[49m\u001B[43m[\u001B[49m\u001B[38;5;124;43m'\u001B[39;49m\u001B[38;5;124;43mA\u001B[39;49m\u001B[38;5;124;43m'\u001B[39;49m\u001B[43m]\u001B[49m\u001B[43m,\u001B[49m\u001B[43m \u001B[49m\u001B[43mmodel\u001B[49m\u001B[43m[\u001B[49m\u001B[38;5;124;43m'\u001B[39;49m\u001B[38;5;124;43mC\u001B[39;49m\u001B[38;5;124;43m'\u001B[39;49m\u001B[43m]\u001B[49m\u001B[43m)\u001B[49m\n\u001B[0;32m      2\u001B[0m contact_map \u001B[38;5;241m=\u001B[39m dist_matrix \u001B[38;5;241m<\u001B[39m \u001B[38;5;241m8.0\u001B[39m\n",
      "Cell \u001B[1;32mIn[14], line 14\u001B[0m, in \u001B[0;36mcalc_dist_matrix\u001B[1;34m(chain_one, chain_two)\u001B[0m\n\u001B[0;32m     12\u001B[0m \u001B[38;5;28;01mfor\u001B[39;00m row, residue_one \u001B[38;5;129;01min\u001B[39;00m \u001B[38;5;28menumerate\u001B[39m(chain_one) :\n\u001B[0;32m     13\u001B[0m     \u001B[38;5;28;01mfor\u001B[39;00m col, residue_two \u001B[38;5;129;01min\u001B[39;00m \u001B[38;5;28menumerate\u001B[39m(chain_two) :\n\u001B[1;32m---> 14\u001B[0m         answer[row, col] \u001B[38;5;241m=\u001B[39m \u001B[43mcalc_residue_dist\u001B[49m\u001B[43m(\u001B[49m\u001B[43mresidue_one\u001B[49m\u001B[43m,\u001B[49m\u001B[43m \u001B[49m\u001B[43mresidue_two\u001B[49m\u001B[43m)\u001B[49m\n\u001B[0;32m     15\u001B[0m \u001B[38;5;28;01mreturn\u001B[39;00m answer\n",
      "Cell \u001B[1;32mIn[14], line 6\u001B[0m, in \u001B[0;36mcalc_residue_dist\u001B[1;34m(residue_one, residue_two)\u001B[0m\n\u001B[0;32m      4\u001B[0m \u001B[38;5;28;01mdef\u001B[39;00m \u001B[38;5;21mcalc_residue_dist\u001B[39m(residue_one, residue_two) :\n\u001B[0;32m      5\u001B[0m     \u001B[38;5;124;03m\"\"\"Returns the C-alpha distance between two residues\"\"\"\u001B[39;00m\n\u001B[1;32m----> 6\u001B[0m     diff_vector  \u001B[38;5;241m=\u001B[39m residue_one[\u001B[38;5;124m\"\u001B[39m\u001B[38;5;124mCA\u001B[39m\u001B[38;5;124m\"\u001B[39m]\u001B[38;5;241m.\u001B[39mcoord \u001B[38;5;241m-\u001B[39m \u001B[43mresidue_two\u001B[49m\u001B[43m[\u001B[49m\u001B[38;5;124;43m\"\u001B[39;49m\u001B[38;5;124;43mCA\u001B[39;49m\u001B[38;5;124;43m\"\u001B[39;49m\u001B[43m]\u001B[49m\u001B[38;5;241m.\u001B[39mcoord\n\u001B[0;32m      7\u001B[0m     \u001B[38;5;28;01mreturn\u001B[39;00m np\u001B[38;5;241m.\u001B[39msqrt(np\u001B[38;5;241m.\u001B[39msum(diff_vector \u001B[38;5;241m*\u001B[39m diff_vector))\n",
      "File \u001B[1;32mE:\\ProgramData\\Anaconda3\\envs\\pyg\\lib\\site-packages\\Bio\\PDB\\Entity.py:45\u001B[0m, in \u001B[0;36mEntity.__getitem__\u001B[1;34m(self, id)\u001B[0m\n\u001B[0;32m     43\u001B[0m \u001B[38;5;28;01mdef\u001B[39;00m \u001B[38;5;21m__getitem__\u001B[39m(\u001B[38;5;28mself\u001B[39m, \u001B[38;5;28mid\u001B[39m):\n\u001B[0;32m     44\u001B[0m     \u001B[38;5;124;03m\"\"\"Return the child with given id.\"\"\"\u001B[39;00m\n\u001B[1;32m---> 45\u001B[0m     \u001B[38;5;28;01mreturn\u001B[39;00m \u001B[38;5;28;43mself\u001B[39;49m\u001B[38;5;241;43m.\u001B[39;49m\u001B[43mchild_dict\u001B[49m\u001B[43m[\u001B[49m\u001B[38;5;28;43mid\u001B[39;49m\u001B[43m]\u001B[49m\n",
      "\u001B[1;31mKeyError\u001B[0m: 'CA'"
     ]
    }
   ],
   "source": [
    "dist_matrix = calc_dist_matrix(model['A'], model['C'])\n",
    "contact_map = dist_matrix < 8.0"
   ],
   "metadata": {
    "collapsed": false
   }
  },
  {
   "cell_type": "code",
   "execution_count": null,
   "outputs": [],
   "source": [],
   "metadata": {
    "collapsed": false
   }
  }
 ],
 "metadata": {
  "kernelspec": {
   "display_name": "Python 3",
   "language": "python",
   "name": "python3"
  },
  "language_info": {
   "codemirror_mode": {
    "name": "ipython",
    "version": 2
   },
   "file_extension": ".py",
   "mimetype": "text/x-python",
   "name": "python",
   "nbconvert_exporter": "python",
   "pygments_lexer": "ipython2",
   "version": "2.7.6"
  }
 },
 "nbformat": 4,
 "nbformat_minor": 0
}
